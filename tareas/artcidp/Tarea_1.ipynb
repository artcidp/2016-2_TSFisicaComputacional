{
 "cells": [
  {
   "cell_type": "markdown",
   "metadata": {},
   "source": [
    "En este programa se elabora una función para calcular las raíces de un polinomio cuadrático con coeficientes reales. La ecuación a resolver esta dada por: $$ax^2+bx+c=0 $$\n",
    "\n",
    "Además, sabemos que la solución se puede hallar mediante la fórmula general: $$x_{1,2}(a,b,c)=\\frac{-b\\pm \\sqrt{b^2-4ac}}{2a} $$"
   ]
  },
  {
   "cell_type": "markdown",
   "metadata": {},
   "source": [
    "Deseamos que la función sea *type-stable* por lo que se requiere que al introducir los argumentos a,b y c se haga el menor número de promociones posibles y el tipo del resultado dependa únicamente del tipo de los argumentos. Esto lo podemos asegurar al requerir al usuario que todas las entradas son del mismo tipo y que a la vez sean de un tipo lo suficientemente específico como para no incluir strings y que no pueda valer nunca infinito ninguno de ellos. Para esto utilizaremos el tipo *float64*. No enfocaremos en obtener una función tipo estable."
   ]
  },
  {
   "cell_type": "code",
   "execution_count": 5,
   "metadata": {
    "collapsed": false
   },
   "outputs": [
    {
     "data": {
      "text/plain": [
       "sol_cuadratica (generic function with 1 method)"
      ]
     },
     "execution_count": 5,
     "metadata": {},
     "output_type": "execute_result"
    }
   ],
   "source": [
    "\"\"\"La función sol_cuadratica devulve las raíces de un polinomio de grado 2 tomando como \n",
    "argumentos los coeficientes del mismo. Analiza los diferentes casos según el discriminante.\n",
    "Con el fin de que sea type-stable, se restringen las soluciones complejas. \n",
    "\"\"\"\n",
    "\n",
    "function sol_cuadratica (a::Float64,b::Float64,c::Float64) \n",
    "        if a==0\n",
    "            println(\"Esta no es una ecuación cuadrática. A lo más es lineal\")\n",
    "        return tuple (NaN,NaN)\n",
    "        end\n",
    "        if b^2-4a*c<0\n",
    "            println(\"las raices son complejas y como deseamos minimizar nuestras promociones, prohibiremos raíces complejas\")\n",
    "        return tuple (NaN,NaN)\n",
    "        end \n",
    "            return tuple((-b^2+sqrt(b^2-4a*c))/2*a,(-b^2-sqrt(b^2-4a*c))/2*a)\n",
    "    end"
   ]
  },
  {
   "cell_type": "markdown",
   "metadata": {},
   "source": [
    "Ejemplos de Evaluación"
   ]
  },
  {
   "cell_type": "code",
   "execution_count": 7,
   "metadata": {
    "collapsed": false
   },
   "outputs": [
    {
     "ename": "LoadError",
     "evalue": "LoadError: MethodError: `sol_cuadratica` has no method matching sol_cuadratica(::Int64, ::Float64, ::Float64)\nClosest candidates are:\n  sol_cuadratica(!Matched::Float64, ::Float64, ::Float64)\nwhile loading In[7], in expression starting on line 1",
     "output_type": "error",
     "traceback": [
      "LoadError: MethodError: `sol_cuadratica` has no method matching sol_cuadratica(::Int64, ::Float64, ::Float64)\nClosest candidates are:\n  sol_cuadratica(!Matched::Float64, ::Float64, ::Float64)\nwhile loading In[7], in expression starting on line 1",
      ""
     ]
    }
   ],
   "source": [
    "sol_cuadratica (5,6.0,7.0) #evaluamos con un intero en vez de float"
   ]
  },
  {
   "cell_type": "code",
   "execution_count": 8,
   "metadata": {
    "collapsed": false
   },
   "outputs": [
    {
     "name": "stdout",
     "output_type": "stream",
     "text": [
      "las raices son complejas y como deseamos minimizar nuestras promociones, prohibiremos raíces complejas\n"
     ]
    },
    {
     "data": {
      "text/plain": [
       "(NaN,NaN)"
      ]
     },
     "execution_count": 8,
     "metadata": {},
     "output_type": "execute_result"
    }
   ],
   "source": [
    "sol_cuadratica(5.6,5.5,5.9) #discriminante menor a cero"
   ]
  },
  {
   "cell_type": "code",
   "execution_count": 9,
   "metadata": {
    "collapsed": false
   },
   "outputs": [
    {
     "data": {
      "text/plain": [
       "(-9.01499385884256e6,-9.04445514615744e6)"
      ]
     },
     "execution_count": 9,
     "metadata": {},
     "output_type": "execute_result"
    }
   ],
   "source": [
    "sol_cuadratica(50.0,600.99,70.01) #evaluamos para obtener una respuesta"
   ]
  },
  {
   "cell_type": "markdown",
   "metadata": {
    "collapsed": true
   },
   "source": [
    "Documentación de la Función"
   ]
  },
  {
   "cell_type": "code",
   "execution_count": 10,
   "metadata": {
    "collapsed": false
   },
   "outputs": [
    {
     "name": "stdout",
     "output_type": "stream",
     "text": [
      "search: sol_cuadratica\n",
      "\n"
     ]
    },
    {
     "data": {
      "text/latex": [
       "La función sol\\_cuadratica devulve las raíces de un polinomio de grado 2 tomando como  argumentos los coeficientes del mismo. Analiza los diferentes casos según el discriminante. Con el fin de que sea type-stable, se restringen las soluciones complejas. \n"
      ],
      "text/markdown": [
       "La función sol_cuadratica devulve las raíces de un polinomio de grado 2 tomando como  argumentos los coeficientes del mismo. Analiza los diferentes casos según el discriminante. Con el fin de que sea type-stable, se restringen las soluciones complejas. \n"
      ],
      "text/plain": [
       "La función sol_cuadratica devulve las raíces de un polinomio de grado 2 tomando como  argumentos los coeficientes del mismo. Analiza los diferentes casos según el discriminante. Con el fin de que sea type-stable, se restringen las soluciones complejas. \n"
      ]
     },
     "execution_count": 10,
     "metadata": {},
     "output_type": "execute_result"
    }
   ],
   "source": [
    "? sol_cuadratica"
   ]
  },
  {
   "cell_type": "code",
   "execution_count": null,
   "metadata": {
    "collapsed": true
   },
   "outputs": [],
   "source": []
  }
 ],
 "metadata": {
  "kernelspec": {
   "display_name": "Julia 0.4.3",
   "language": "julia",
   "name": "julia-0.4"
  },
  "language_info": {
   "file_extension": ".jl",
   "mimetype": "application/julia",
   "name": "julia",
   "version": "0.4.3"
  }
 },
 "nbformat": 4,
 "nbformat_minor": 0
}
