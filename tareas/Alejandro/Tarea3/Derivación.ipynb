{
 "cells": [
  {
   "cell_type": "markdown",
   "metadata": {},
   "source": [
    "A lo largo de este notebook, implementé varias funciones de ejemplos que vi en: http://docs.julialang.org/en/release-0.4/\n",
    "\n",
    "Para la derivada derecha, primero:"
   ]
  },
  {
   "cell_type": "code",
   "execution_count": 2,
   "metadata": {
    "collapsed": false
   },
   "outputs": [],
   "source": [
    "f(x)=3x^3-2 ; fp(x)=9x^2 #Dando la función y su derivada\";\n",
    "c=1  #Punto donde se evalua\";\n",
    " "
   ]
  },
  {
   "cell_type": "code",
   "execution_count": 3,
   "metadata": {
    "collapsed": false
   },
   "outputs": [
    {
     "data": {
      "text/plain": [
       "50-element Array{Float64,1}:\n",
       " 1.0e-9    \n",
       " 1.45635e-9\n",
       " 2.12095e-9\n",
       " 3.08884e-9\n",
       " 4.49843e-9\n",
       " 6.55129e-9\n",
       " 9.54095e-9\n",
       " 1.3895e-8 \n",
       " 2.02359e-8\n",
       " 2.94705e-8\n",
       " 4.29193e-8\n",
       " 6.25055e-8\n",
       " 9.10298e-8\n",
       " ⋮         \n",
       " 0.00159986\n",
       " 0.00232995\n",
       " 0.00339322\n",
       " 0.00494171\n",
       " 0.00719686\n",
       " 0.0104811 \n",
       " 0.0152642 \n",
       " 0.02223   \n",
       " 0.0323746 \n",
       " 0.0471487 \n",
       " 0.0686649 \n",
       " 0.1       "
      ]
     },
     "execution_count": 3,
     "metadata": {},
     "output_type": "execute_result"
    }
   ],
   "source": [
    "h=logspace(-9,-1,50) #obteniendo los intervalos\n",
    "\n"
   ]
  },
  {
   "cell_type": "code",
   "execution_count": 6,
   "metadata": {
    "collapsed": false
   },
   "outputs": [],
   "source": [
    "dev=[(f(c+i)-f(c)) / i for i in h ]#Definición de derivada\";"
   ]
  },
  {
   "cell_type": "code",
   "execution_count": 7,
   "metadata": {
    "collapsed": false,
    "scrolled": true
   },
   "outputs": [
    {
     "name": "stdout",
     "output_type": "stream",
     "text": [
      "7."
     ]
    },
    {
     "data": {
      "text/plain": [
       "50-element Array{Any,1}:\n",
       " 7.44663e-7\n",
       " 6.3203e-7 \n",
       " 3.50027e-7\n",
       " 1.55927e-7\n",
       " 1.36951e-7\n",
       " 2.67852e-8\n",
       " 2.65563e-8\n",
       " 1.73189e-7\n",
       " 2.13859e-7\n",
       " 2.30172e-7\n",
       " 3.71898e-7\n",
       " 5.5795e-7 \n",
       " 8.30129e-7\n",
       " ⋮         \n",
       " 0.0144064 \n",
       " 0.0209859 \n",
       " 0.0305735 \n",
       " 0.0445487 \n",
       " 0.0649271 \n",
       " 0.0946597 \n",
       " 0.138077  \n",
       " 0.201552  \n",
       " 0.294516  \n",
       " 0.431007  \n",
       " 0.632129  \n",
       " 0.93      "
      ]
     },
     "execution_count": 7,
     "metadata": {},
     "output_type": "execute_result"
    },
    {
     "name": "stdout",
     "output_type": "stream",
     "text": [
      "446633389918134e-7\n",
      "6.320301171314213e-7\n",
      "3.5002656062488313e-7\n",
      "1.559267914785778e-7\n",
      "1.3695059131180187e-7\n",
      "2.678520516496974e-8\n",
      "2.6556270071864674e-8\n",
      "1.7318949474542933e-7\n",
      "2.1385868365086935e-7\n",
      "2.3017151029591787e-7\n",
      "3.7189773038903695e-7\n",
      "5.579500879093757e-7\n",
      "8.301289504686338e-7\n",
      "1.1877363430556898e-6\n",
      "1.735315880324606e-6\n",
      "2.529871082401769e-6\n",
      "3.686100786381985e-6\n",
      "5.368370034730674e-6\n",
      "7.815882403505725e-6\n",
      "1.1383017145760732e-5\n",
      "1.6578091823760133e-5\n",
      "2.4144131119285817e-5\n",
      "3.5162693141188583e-5\n",
      "5.120880183362431e-5\n",
      "7.457819846479197e-5\n",
      "0.0001086117770210393\n",
      "0.0001581768785321458\n",
      "0.00023036129002207417\n",
      "0.0003354876020598141\n",
      "0.0004885896430923964\n",
      "0.0007115626399354369\n",
      "0.001036295625656436\n",
      "0.0015092339919267062\n",
      "0.002198026694758326\n",
      "0.003201211733129483\n",
      "0.0046623320193859286\n",
      "0.006790515016060539\n",
      "0.009890490654829165\n",
      "0.014406407120011622\n",
      "0.020985852320807297\n",
      "0.030573537808820106\n",
      "0.04454868184489058\n",
      "0.06492709481054248\n",
      "0.09465974441654623\n",
      "0.13807660258889776\n",
      "0.20155219743577035\n",
      "0.2945155182560253\n",
      "0.43100696215874024\n",
      "0.6321285595942463\n",
      "0.9300000000000122\n"
     ]
    }
   ],
   "source": [
    "#Evaluando cada intervalo en la derivada derecha y calculando el error absoluto\n",
    "for i in h\n",
    "    err= abs((f(c+i)-f(c))/i -fp(c))\n",
    "\n",
    "    println( err)\n",
    "    \n",
    "end   \n",
    "y=[  abs((f(c+i)-f(c))/i -fp(c)) for i in h]"
   ]
  },
  {
   "cell_type": "code",
   "execution_count": 7,
   "metadata": {
    "collapsed": false
   },
   "outputs": [],
   "source": [
    "using PyPlot"
   ]
  },
  {
   "cell_type": "code",
   "execution_count": 10,
   "metadata": {
    "collapsed": false
   },
   "outputs": [
    {
     "data": {
      "image/png": "[encoded data removed]",
      "text/plain": [
       "PyPlot.Figure(PyObject <matplotlib.figure.Figure object at 0x7f27981adb50>)"
      ]
     },
     "metadata": {},
     "output_type": "display_data"
    },
    {
     "data": {
      "text/plain": [
       "1-element Array{Any,1}:\n",
       " PyObject <matplotlib.lines.Line2D object at 0x7f2797371550>"
      ]
     },
     "execution_count": 10,
     "metadata": {},
     "output_type": "execute_result"
    }
   ],
   "source": [
    "loglog(h,y)"
   ]
  },
  {
   "cell_type": "markdown",
   "metadata": {},
   "source": [
    "Podemos apreciar en esta gráfica que, conforme el intervalo se va acercando a un valor en particular, el error entre la derivada numérica y la exacta va disminuyendo, hasta llegar a un valor mínimo, en donde se mantiene constante dados unos pocos intervalos más, para después despegar linealmente en la escala logarítmica, lo que implica que su dependencia real es de carácter de potenciación. "
   ]
  },
  {
   "cell_type": "markdown",
   "metadata": {
    "collapsed": true
   },
   "source": [
    "Para la derivada simétrica:"
   ]
  },
  {
   "cell_type": "code",
   "execution_count": 2,
   "metadata": {
    "collapsed": false
   },
   "outputs": [
    {
     "data": {
      "text/plain": [
       "50-element Array{Float64,1}:\n",
       " 1.0e-9    \n",
       " 1.45635e-9\n",
       " 2.12095e-9\n",
       " 3.08884e-9\n",
       " 4.49843e-9\n",
       " 6.55129e-9\n",
       " 9.54095e-9\n",
       " 1.3895e-8 \n",
       " 2.02359e-8\n",
       " 2.94705e-8\n",
       " 4.29193e-8\n",
       " 6.25055e-8\n",
       " 9.10298e-8\n",
       " ⋮         \n",
       " 0.00159986\n",
       " 0.00232995\n",
       " 0.00339322\n",
       " 0.00494171\n",
       " 0.00719686\n",
       " 0.0104811 \n",
       " 0.0152642 \n",
       " 0.02223   \n",
       " 0.0323746 \n",
       " 0.0471487 \n",
       " 0.0686649 \n",
       " 0.1       "
      ]
     },
     "execution_count": 2,
     "metadata": {},
     "output_type": "execute_result"
    }
   ],
   "source": [
    "#Nuevamente, con las definiciones de:\n",
    "#f(x)=3x^3-2 ; fp(x)=9x^2 #La función y su derivada\";\n",
    "#c=1  #Punto donde se evalua ;\n",
    " #h=logspace(-9,-1,50)"
   ]
  },
  {
   "cell_type": "code",
   "execution_count": 16,
   "metadata": {
    "collapsed": false,
    "scrolled": true
   },
   "outputs": [
    {
     "data": {
      "text/plain": [
       "50-element Array{Any,1}:\n",
       " 3.00574e-7 \n",
       " 3.27097e-7 \n",
       " 1.40644e-7 \n",
       " 1.55927e-7 \n",
       " 1.11307e-8 \n",
       " 4.10014e-8 \n",
       " 3.28348e-9 \n",
       " 2.93674e-8 \n",
       " 2.73209e-8 \n",
       " 1.09314e-8 \n",
       " 5.77013e-9 \n",
       " 6.88151e-9 \n",
       " 5.662e-9   \n",
       " ⋮          \n",
       " 7.67864e-6 \n",
       " 1.6286e-5  \n",
       " 3.45419e-5 \n",
       " 7.32616e-5 \n",
       " 0.000155384\n",
       " 0.000329562\n",
       " 0.000698986\n",
       " 0.00148251 \n",
       " 0.00314434 \n",
       " 0.00666899 \n",
       " 0.0141446  \n",
       " 0.03       "
      ]
     },
     "execution_count": 16,
     "metadata": {},
     "output_type": "execute_result"
    }
   ],
   "source": [
    "#Ahora, de igual manera evaluamos cada intervalo en la derivada (ahora central) y calculando el error absoluto\n",
    "for i in h\n",
    "    errs= abs((f(c+i)-f(c-i))/(2*i) - fp(c))\n",
    "    println(errs)\n",
    "end    \n",
    " S=[ abs((f(c+i)-f(c-i))/(2*i) - fp(c))  for i in h]"
   ]
  },
  {
   "cell_type": "markdown",
   "metadata": {},
   "source": [
    "Graficando error vs intervalo:"
   ]
  },
  {
   "cell_type": "code",
   "execution_count": 17,
   "metadata": {
    "collapsed": false
   },
   "outputs": [
    {
     "data": {
      "image/png": "[encoded data removed]",
      "text/plain": [
       "PyPlot.Figure(PyObject <matplotlib.figure.Figure object at 0x7f27976c8290>)"
      ]
     },
     "metadata": {},
     "output_type": "display_data"
    },
    {
     "data": {
      "text/plain": [
       "1-element Array{Any,1}:\n",
       " PyObject <matplotlib.lines.Line2D object at 0x7f27974f7750>"
      ]
     },
     "execution_count": 17,
     "metadata": {},
     "output_type": "execute_result"
    }
   ],
   "source": [
    "loglog(h,S)"
   ]
  },
  {
   "cell_type": "markdown",
   "metadata": {
    "collapsed": true
   },
   "source": [
    "De esta gráfica podemos apreciar que la derivada simétrica es más precisa, ya que el valor absoluto del error es menor y además este error se aproxima a cero (junto con el intervalo) más rápido que la derivada derecha. \n"
   ]
  },
  {
   "cell_type": "markdown",
   "metadata": {},
   "source": [
    "Derivada Compleja\n",
    "\n",
    "\n",
    "\\begin{equation}\n",
    "f'(x_0) = \\lim_{h\\to 0} \\Im\\Big(\\frac{f(x_0+ i h)}{h}\\Big).\n",
    "\\end{equation}\n"
   ]
  },
  {
   "cell_type": "code",
   "execution_count": 1,
   "metadata": {
    "collapsed": false
   },
   "outputs": [
    {
     "data": {
      "text/plain": [
       "50-element Array{Float64,1}:\n",
       " 1.0e-9    \n",
       " 1.45635e-9\n",
       " 2.12095e-9\n",
       " 3.08884e-9\n",
       " 4.49843e-9\n",
       " 6.55129e-9\n",
       " 9.54095e-9\n",
       " 1.3895e-8 \n",
       " 2.02359e-8\n",
       " 2.94705e-8\n",
       " 4.29193e-8\n",
       " 6.25055e-8\n",
       " 9.10298e-8\n",
       " ⋮         \n",
       " 0.00159986\n",
       " 0.00232995\n",
       " 0.00339322\n",
       " 0.00494171\n",
       " 0.00719686\n",
       " 0.0104811 \n",
       " 0.0152642 \n",
       " 0.02223   \n",
       " 0.0323746 \n",
       " 0.0471487 \n",
       " 0.0686649 \n",
       " 0.1       "
      ]
     },
     "execution_count": 1,
     "metadata": {},
     "output_type": "execute_result"
    }
   ],
   "source": [
    "#Nuevamente, con las definiciones de:\n",
    "f(x)=3x^3-2 ; fp(x)=9x^2 #La función y su derivada\";\n",
    "c=1  #Punto donde se evalua ;\n",
    "h=logspace(-9,-1,50)"
   ]
  },
  {
   "cell_type": "code",
   "execution_count": 38,
   "metadata": {
    "collapsed": false,
    "scrolled": false
   },
   "outputs": [
    {
     "name": "stdout",
     "output_type": "stream",
     "text": [
      "0.0"
     ]
    },
    {
     "data": {
      "text/plain": [
       "50-element Array{Any,1}:\n",
       " 0.0        \n",
       " 0.0        \n",
       " 0.0        \n",
       " 0.0        \n",
       " 0.0        \n",
       " 0.0        \n",
       " 0.0        \n",
       " 1.77636e-15\n",
       " 0.0        \n",
       " 1.77636e-15\n",
       " 5.32907e-15\n",
       " 1.24345e-14\n",
       " 2.4869e-14 \n",
       " ⋮          \n",
       " 7.67864e-6 \n",
       " 1.6286e-5  \n",
       " 3.45419e-5 \n",
       " 7.32616e-5 \n",
       " 0.000155384\n",
       " 0.000329562\n",
       " 0.000698986\n",
       " 0.00148251 \n",
       " 0.00314434 \n",
       " 0.00666899 \n",
       " 0.0141446  \n",
       " 0.03       "
      ]
     },
     "execution_count": 38,
     "metadata": {},
     "output_type": "execute_result"
    },
    {
     "name": "stdout",
     "output_type": "stream",
     "text": [
      "\n",
      "0.0\n",
      "0.0\n",
      "0.0\n",
      "0.0\n",
      "0.0\n",
      "0.0\n",
      "1.7763568394002505e-15\n",
      "0.0\n",
      "1.7763568394002505e-15\n",
      "5.329070518200751e-15\n",
      "1.2434497875801753e-14\n",
      "2.4868995751603507e-14\n",
      "5.3290705182007514e-14\n",
      "1.1191048088221578e-13\n",
      "2.3803181647963356e-13\n",
      "5.027089855502709e-13\n",
      "1.0675904604795505e-12\n",
      "2.263078613395919e-12\n",
      "4.799716180059477e-12\n",
      "1.0178524689763435e-11\n",
      "2.1591617382910044e-11\n",
      "4.5792702962899057e-11\n",
      "9.71223101942087e-11\n",
      "2.0599344452421064e-10\n",
      "4.36905622791528e-10\n",
      "9.266525324846953e-10\n",
      "1.9653860761081887e-9\n",
      "4.168486000821758e-9\n",
      "8.84115536337049e-9\n",
      "1.8751656227777858e-8\n",
      "3.9771339999106203e-8\n",
      "8.435306142473564e-8\n",
      "1.7890870118719704e-7\n",
      "3.7945656394811067e-7\n",
      "8.048087387635405e-7\n",
      "1.7069598072794179e-6\n",
      "3.6203779210097764e-6\n",
      "7.67864376705063e-6\n",
      "1.6286026317757774e-5\n",
      "3.454186198048603e-5\n",
      "7.32615928367153e-5\n",
      "0.00015538424037764287\n",
      "0.0003295623425945138\n",
      "0.0006989855431545067\n",
      "0.0014825140083978283\n",
      "0.003144339402464169\n",
      "0.006668989447579321\n",
      "0.014144599090371912\n",
      "0.02999999999999936\n"
     ]
    }
   ],
   "source": [
    "#Ahora, de igual manera, evaluamos cada intervalo(complejo) en la derivada (ahora compleja) y calculando el error absoluto\n",
    "for i in h\n",
    "    errc= abs(imag(f(c+(i*1im)))/(i) - fp(c))\n",
    "\n",
    "    println(errc)\n",
    "end    \n",
    "L=[ abs(imag(f(c+(i*1im)))/(i) - fp(c)) for i in h]"
   ]
  },
  {
   "cell_type": "code",
   "execution_count": 40,
   "metadata": {
    "collapsed": false
   },
   "outputs": [
    {
     "data": {
      "image/png": "[encoded data removed]",
      "text/plain": [
       "PyPlot.Figure(PyObject <matplotlib.figure.Figure object at 0x7feb7f8083d0>)"
      ]
     },
     "metadata": {},
     "output_type": "display_data"
    },
    {
     "data": {
      "text/plain": [
       "1-element Array{Any,1}:\n",
       " PyObject <matplotlib.lines.Line2D object at 0x7feb7c733f10>"
      ]
     },
     "execution_count": 40,
     "metadata": {},
     "output_type": "execute_result"
    }
   ],
   "source": [
    "loglog(h,L)"
   ]
  },
  {
   "cell_type": "markdown",
   "metadata": {},
   "source": [
    "**Preguntas**\n",
    "\n",
    "- ¿Cuál de las definiciones anteriores es mejor en términos de dar el valor más exacto de la derivada? Den un argumento sólido de su conclusión en términos del tipo de convergencia hacia el valor exacto.\n",
    "\n",
    "\n"
   ]
  },
  {
   "cell_type": "markdown",
   "metadata": {},
   "source": [
    "*De los 3 métodos de derivación numérica analizados, podemos ver que el método de derivación compleja tiene un decremento, del error absoluto con respecto al incremento, que converge de manera cuadrática, además, en comparación de los otros dos casos, este error no aumenta de nuevo conforme se supera cierto punto, como se peude observar en la derivación derecha y central, por lo tanto, el método que da valores más exactos de la derivada es la diferenciación finíta compleja.*"
   ]
  },
  {
   "cell_type": "markdown",
   "metadata": {},
   "source": [
    "- ¿Qué comportamiento de las derivadas en términos de $h$ nos incomoda (en lo más profundo de las entrañas)? ¿A qué se debe esto?"
   ]
  },
  {
   "cell_type": "markdown",
   "metadata": {},
   "source": [
    "\"El comportamiento incómodo de las derivadas en términos de $h$ es que, en contra a lo que uno espera matématicamente (i.e. que conforme el valor de $h$ tiende a cero, el \\begin{equation}\n",
    "\\lim_{h\\to 0} \\frac{f(x_0+h)-f(x_0)}{h},\n",
    "\\end{equation} converge al valor de la derivada en el punto x_0) dicha convergencia no ocurre pasando un valor mínimo para $h$, tras el cual, la convergencia (analizada en este caso por el error absoluto) se dispara. Esto se debe a la incapacidad de la derivación númérica de tomar valores **continuos**."
   ]
  },
  {
   "cell_type": "markdown",
   "metadata": {},
   "source": []
  }
 ],
 "metadata": {
  "kernelspec": {
   "display_name": "Julia 0.4.2",
   "language": "julia",
   "name": "julia-0.4"
  },
  "language_info": {
   "file_extension": ".jl",
   "mimetype": "application/julia",
   "name": "julia",
   "version": "0.4.2"
  }
 },
 "nbformat": 4,
 "nbformat_minor": 0
}
