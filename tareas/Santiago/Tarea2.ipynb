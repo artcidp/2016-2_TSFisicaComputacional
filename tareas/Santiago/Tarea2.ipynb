{
 "cells": [
  {
   "cell_type": "markdown",
   "metadata": {},
   "source": [
    "# Tarea 2: Santiago Ontañón Sánchez"
   ]
  },
  {
   "cell_type": "markdown",
   "metadata": {},
   "source": [
    "## 1. Histogramas"
   ]
  },
  {
   "cell_type": "markdown",
   "metadata": {},
   "source": [
    "Lo primero que vemos es la documentación de la función `randn`:"
   ]
  },
  {
   "cell_type": "code",
   "execution_count": 1,
   "metadata": {
    "collapsed": false
   },
   "outputs": [
    {
     "name": "stdout",
     "output_type": "stream",
     "text": [
      "search: "
     ]
    },
    {
     "data": {
      "text/latex": [
       "\\begin{verbatim}\n",
       "randn([rng], [dims...])\n",
       "\\end{verbatim}\n",
       "Generate a normally-distributed random number with mean 0 and standard deviation 1. Optionally generate an array of normally-distributed random numbers.\n"
      ],
      "text/markdown": [
       "```\n",
       "randn([rng], [dims...])\n",
       "```\n",
       "\n",
       "Generate a normally-distributed random number with mean 0 and standard deviation 1. Optionally generate an array of normally-distributed random numbers.\n"
      ],
      "text/plain": [
       "```\n",
       "randn([rng], [dims...])\n",
       "```\n",
       "\n",
       "Generate a normally-distributed random number with mean 0 and standard deviation 1. Optionally generate an array of normally-distributed random numbers.\n"
      ]
     },
     "execution_count": 1,
     "metadata": {},
     "output_type": "execute_result"
    }
   ],
   "source": [
    "?randn"
   ]
  },
  {
   "cell_type": "markdown",
   "metadata": {},
   "source": [
    "Un ejemplo:"
   ]
  },
  {
   "cell_type": "code",
   "execution_count": 2,
   "metadata": {
    "collapsed": false
   },
   "outputs": [
    {
     "name": "stdout",
     "output_type": "stream",
     "text": [
      "randn randn! sprandn randstring rand! rand randexp randperm randjump\n",
      "\n"
     ]
    },
    {
     "data": {
      "text/plain": [
       "0.050111399518670885"
      ]
     },
     "execution_count": 2,
     "metadata": {},
     "output_type": "execute_result"
    }
   ],
   "source": [
    "randn()"
   ]
  },
  {
   "cell_type": "markdown",
   "metadata": {},
   "source": [
    "El ejercicio pide explícitamente que se generen números de tipo `Float64`, pero esto es por default:"
   ]
  },
  {
   "cell_type": "code",
   "execution_count": 3,
   "metadata": {
    "collapsed": false
   },
   "outputs": [
    {
     "data": {
      "text/plain": [
       "Float64"
      ]
     },
     "execution_count": 3,
     "metadata": {},
     "output_type": "execute_result"
    }
   ],
   "source": [
    "typeof(ans)"
   ]
  },
  {
   "cell_type": "markdown",
   "metadata": {},
   "source": [
    "Ahora, crear $N$ valores es trivial utilizando la función `randn(N)`, definiendo $N$:"
   ]
  },
  {
   "cell_type": "code",
   "execution_count": 4,
   "metadata": {
    "collapsed": false
   },
   "outputs": [
    {
     "data": {
      "text/plain": [
       "10000"
      ]
     },
     "execution_count": 4,
     "metadata": {},
     "output_type": "execute_result"
    }
   ],
   "source": [
    "N = 10000"
   ]
  },
  {
   "cell_type": "code",
   "execution_count": 5,
   "metadata": {
    "collapsed": false
   },
   "outputs": [],
   "source": [
    "data = randn(N);"
   ]
  },
  {
   "cell_type": "code",
   "execution_count": 6,
   "metadata": {
    "collapsed": false
   },
   "outputs": [
    {
     "data": {
      "text/plain": [
       "Array{Float64,1}"
      ]
     },
     "execution_count": 6,
     "metadata": {},
     "output_type": "execute_result"
    }
   ],
   "source": [
    "typeof(data)"
   ]
  },
  {
   "cell_type": "markdown",
   "metadata": {},
   "source": [
    "Ahora quisiéramos inicializar el arreglo $n_{hist}$ pero para hacer esto necesitamos el máximo y mínimos del arreglo `data` y el número de `bins` que vamos a hacer. Este es el argumento de la función que vamos a implementar, pero para empezar, un buen número corresponde a tener $N/100$ `bins`. "
   ]
  },
  {
   "cell_type": "code",
   "execution_count": 7,
   "metadata": {
    "collapsed": false
   },
   "outputs": [
    {
     "data": {
      "text/plain": [
       "100"
      ]
     },
     "execution_count": 7,
     "metadata": {},
     "output_type": "execute_result"
    }
   ],
   "source": [
    "n_bins = 100"
   ]
  },
  {
   "cell_type": "markdown",
   "metadata": {},
   "source": [
    "Ahora utilizamos las funciones `maximum` y `minimum` para obtener la separación entre `bins`."
   ]
  },
  {
   "cell_type": "code",
   "execution_count": 8,
   "metadata": {
    "collapsed": false
   },
   "outputs": [
    {
     "data": {
      "text/plain": [
       "3.8794100863940666"
      ]
     },
     "execution_count": 8,
     "metadata": {},
     "output_type": "execute_result"
    }
   ],
   "source": [
    "sup = maximum(data)"
   ]
  },
  {
   "cell_type": "code",
   "execution_count": 9,
   "metadata": {
    "collapsed": false
   },
   "outputs": [
    {
     "data": {
      "text/plain": [
       "-3.9080686684875463"
      ]
     },
     "execution_count": 9,
     "metadata": {},
     "output_type": "execute_result"
    }
   ],
   "source": [
    "inf = minimum(data)"
   ]
  },
  {
   "cell_type": "code",
   "execution_count": 10,
   "metadata": {
    "collapsed": false
   },
   "outputs": [
    {
     "data": {
      "text/plain": [
       "0.07787478754881613"
      ]
     },
     "execution_count": 10,
     "metadata": {},
     "output_type": "execute_result"
    }
   ],
   "source": [
    "len_bin = (sup - inf)/n_bins"
   ]
  },
  {
   "cell_type": "markdown",
   "metadata": {},
   "source": [
    "Ahora podemos inicializar el arreglo $n_{hist}$ como uno con puros zeros(de tipo `Int64`) y de dimensión $n_{bins}$:"
   ]
  },
  {
   "cell_type": "code",
   "execution_count": 11,
   "metadata": {
    "collapsed": false
   },
   "outputs": [
    {
     "data": {
      "text/plain": [
       "100-element Array{Int64,1}:\n",
       " 0\n",
       " 0\n",
       " 0\n",
       " 0\n",
       " 0\n",
       " 0\n",
       " 0\n",
       " 0\n",
       " 0\n",
       " 0\n",
       " 0\n",
       " 0\n",
       " 0\n",
       " ⋮\n",
       " 0\n",
       " 0\n",
       " 0\n",
       " 0\n",
       " 0\n",
       " 0\n",
       " 0\n",
       " 0\n",
       " 0\n",
       " 0\n",
       " 0\n",
       " 0"
      ]
     },
     "execution_count": 11,
     "metadata": {},
     "output_type": "execute_result"
    }
   ],
   "source": [
    "n_hist = zeros(Int64, n_bins)"
   ]
  },
  {
   "cell_type": "markdown",
   "metadata": {},
   "source": [
    "Ahora viene la parte clave del ejercicio, leer los datos y organizarlos en cada `bin`. Queremos leer un dato sólo una vez, es decir, no queremos recorrer los `bins` y adentro de cada `bin` recorrer todos los datos para ver si cada uno está en dicho `bin` porque así se leerían los datos $n_{bin}$ veces. Lo que se hace es sacar para cada dato su índice que le corresponde. Esto se hace contanto desde el ínfimo y dividiendo entre la longitud del `bin`. Por ejemplo, para el mínimo:"
   ]
  },
  {
   "cell_type": "code",
   "execution_count": 12,
   "metadata": {
    "collapsed": false
   },
   "outputs": [
    {
     "data": {
      "text/plain": [
       "0"
      ]
     },
     "execution_count": 12,
     "metadata": {},
     "output_type": "execute_result"
    }
   ],
   "source": [
    "floor(Int64,(minimum(data)-inf)/len_bin)"
   ]
  },
  {
   "cell_type": "markdown",
   "metadata": {},
   "source": [
    "Lo que significa que está en el índice 0 + 1 del arreglo $n_{hist}$, cosa que tiene sentido. Sin embargo, hay un problema para los valores para los cuales se tiene un dato igual a `maximum(data)`:"
   ]
  },
  {
   "cell_type": "code",
   "execution_count": 13,
   "metadata": {
    "collapsed": false
   },
   "outputs": [
    {
     "data": {
      "text/plain": [
       "100"
      ]
     },
     "execution_count": 13,
     "metadata": {},
     "output_type": "execute_result"
    }
   ],
   "source": [
    "floor(Int64, (maximum(data)-inf)/len_bin)"
   ]
  },
  {
   "cell_type": "markdown",
   "metadata": {},
   "source": [
    "I.e. está en el índice 100 + 1 = 101, que está fuera de rango para nuestro arreglo de longitud $n_{bins}$. Lo que hacemos es meter estos valores en el bin anterior. Ahora es muy claro cómo obtenemos cada índice para cada dato `d` con un ciclo `for`."
   ]
  },
  {
   "cell_type": "code",
   "execution_count": 14,
   "metadata": {
    "collapsed": false
   },
   "outputs": [],
   "source": [
    "for d in data\n",
    "    i = floor(Int64, (d-inf)/len_bin) + 1\n",
    "    i = (i > n_bins) ? n_bins : i\n",
    "    n_hist[i] = n_hist[i] + 1\n",
    "end"
   ]
  },
  {
   "cell_type": "code",
   "execution_count": 15,
   "metadata": {
    "collapsed": false
   },
   "outputs": [
    {
     "data": {
      "text/plain": [
       "100-element Array{Int64,1}:\n",
       " 1\n",
       " 0\n",
       " 0\n",
       " 0\n",
       " 0\n",
       " 1\n",
       " 1\n",
       " 1\n",
       " 2\n",
       " 2\n",
       " 2\n",
       " 2\n",
       " 6\n",
       " ⋮\n",
       " 5\n",
       " 2\n",
       " 2\n",
       " 2\n",
       " 1\n",
       " 1\n",
       " 2\n",
       " 0\n",
       " 0\n",
       " 0\n",
       " 1\n",
       " 1"
      ]
     },
     "execution_count": 15,
     "metadata": {},
     "output_type": "execute_result"
    }
   ],
   "source": [
    "n_hist"
   ]
  },
  {
   "cell_type": "markdown",
   "metadata": {},
   "source": [
    "Ahora simplemente graficamos nuestro histograma:"
   ]
  },
  {
   "cell_type": "code",
   "execution_count": 16,
   "metadata": {
    "collapsed": true
   },
   "outputs": [],
   "source": [
    "using PyPlot"
   ]
  },
  {
   "cell_type": "code",
   "execution_count": 17,
   "metadata": {
    "collapsed": false
   },
   "outputs": [
    {
     "data": {
      "image/png": "[encoded data removed]",
      "text/plain": [
       "PyPlot.Figure(PyObject <matplotlib.figure.Figure object at 0x7fc693935590>)"
      ]
     },
     "metadata": {},
     "output_type": "display_data"
    }
   ],
   "source": [
    "# Vamos a graficar usando un bar_plot, bar de PyPlot. Esta función tiene\n",
    "# como entrada básica bar(x,y) donde x y y son arreglos del mismo tamaño,\n",
    "# x corresponde a la variable independiente y y a la dependiente que se\n",
    "# grafica como una barra. Por eso necesitamos el arreglo x que nos da el\n",
    "# bin correspondiente.\n",
    "x = [1:1:n_bins;]\n",
    "fig = figure(\"pyplot_barplot\", figsize = (6,4))\n",
    "b = bar(x,n_hist, color=\"b\",align=\"center\")\n",
    "title(\"Histograma de datos aleatorios\")\n",
    "xlabel(\"Bin\")\n",
    "ylabel(\"Frecuencia\")\n",
    "xlim(0,100)\n",
    "show()"
   ]
  },
  {
   "cell_type": "markdown",
   "metadata": {},
   "source": [
    "Con todo lo anterior que muestra cómo funciona el proceso de obtener el resultado ahora sí lo implementamos en una sola función:"
   ]
  },
  {
   "cell_type": "code",
   "execution_count": 18,
   "metadata": {
    "collapsed": false
   },
   "outputs": [
    {
     "data": {
      "text/plain": [
       "histogram_randn (generic function with 1 method)"
      ]
     },
     "execution_count": 18,
     "metadata": {},
     "output_type": "execute_result"
    }
   ],
   "source": [
    "\"\"\" \n",
    "histogram_randn(n_bins)\n",
    "\n",
    "Esta función toma como entrada un entero n_bins (y solamente un entero, de otro\n",
    "modo es inválida). Primero se calcula un arreglo de datos con números aleatorios.\n",
    "Dicho arreglo abarca un intervalo [minimum(data), maximum(data)] que se parte en\n",
    "n_bins subintervalos del mismo tamaño. Se regresa un n_hist tipo Array{Int64,1} \n",
    "de dimensión n_bins que trae en la entrada n_hist[i] el número de datos que\n",
    "entraron en dicho intervalo.\n",
    "\"\"\"\n",
    "function histogram_randn{T <: Int64}(n_bins::T)\n",
    "    # Lo primero que se hace es verificar que efectivamente n_bin es un número\n",
    "    # entero, de otro modo la función no corre.\n",
    "    # Después tenemos que generar nuestros datos. El número es arbitrario\n",
    "    # y lo elegimos como dice el inciso, N = 10000.\n",
    "    N = 10000\n",
    "    data = randn(N)\n",
    "    # Con el arreglo lleno de datos, procedemos a encontrar los supremos e\n",
    "    # ínfimos.\n",
    "    sup = maximum(data)\n",
    "    inf = minimum(data)\n",
    "    # Con estos valores se puede calcular len_bin\n",
    "    len_bin = (sup - inf)/n_bins\n",
    "    # Ahora se inicializa el arreglo de tamaño n_bins que tiene las frecuencias\n",
    "    # no normalizadas. Se inicializa naturalmente, lleno de ceros.\n",
    "    n_hist = zeros(Int64, n_bins)\n",
    "    # Después, con un ciclo for, se le asigna a cada dato un índice que es su\n",
    "    # número de bin y dicho bin se incrementa en uno.\n",
    "    for d in data\n",
    "        i = floor(Int64, (d-inf)/len_bin) + 1 # Como se ve, se está calculando el\n",
    "        # número de longitudes len_bin que se encuentra un dato desde el mínimo\n",
    "        # este número de longitudes más uno (pues el mínimo está en el bin\n",
    "        # 1 no el bin 0) es el índice. Excepto si...\n",
    "        i = (i > n_bins) ? n_bins : i # Esta sutileza viene de la convención de que\n",
    "        # n_hist[1] es el primer bin y debe contener a minimum(data), pero del mismo\n",
    "        # modo n_hist[n_bins] contiene al último bin y dentro se considera a \n",
    "        # maximum(data), sólo que nuestro indexado de la línea anterior lo\n",
    "        # metería en el siguiente bin y estaría fuera de rango. Lo que se hace es\n",
    "        # meter este valor en el último bin con un sencillo if.\n",
    "        n_hist[i] = n_hist[i] + 1\n",
    "    end\n",
    "    # Finalmente se regresa el arreglo de frecuencias.\n",
    "    # Vamos a graficar usando un bar_plot, bar de PyPlot. Esta función tiene\n",
    "    # como entrada básica bar(x,y) donde x y y son arreglos del mismo tamaño,\n",
    "    # x corresponde a la variable independiente y y a la dependiente que se\n",
    "    # grafica como una barra. Por eso necesitamos el arreglo x que nos da el\n",
    "    # bin correspondiente.\n",
    "    x = [1:1:n_bins;]\n",
    "    fig = figure(\"pyplot_barplot\", figsize = (6,4))\n",
    "    b = bar(x,n_hist, color=\"b\",align=\"center\")\n",
    "    title(\"Histograma de datos aleatorios\")\n",
    "    xlabel(\"Bin\")\n",
    "    ylabel(\"Frecuencia\")\n",
    "    xlim(0,n_bins)\n",
    "    show()\n",
    "    return n_hist\n",
    "end"
   ]
  },
  {
   "cell_type": "markdown",
   "metadata": {},
   "source": [
    "Ahora se dan unos ejemplos. Para diez puntos:"
   ]
  },
  {
   "cell_type": "code",
   "execution_count": 19,
   "metadata": {
    "collapsed": false
   },
   "outputs": [
    {
     "data": {
      "image/png": "[encoded data removed]",
      "text/plain": [
       "PyPlot.Figure(PyObject <matplotlib.figure.Figure object at 0x7fc690f84d90>)"
      ]
     },
     "metadata": {},
     "output_type": "display_data"
    }
   ],
   "source": [
    "histogram_randn(10);"
   ]
  },
  {
   "cell_type": "markdown",
   "metadata": {},
   "source": [
    "Veamos ahora 1000 bins: "
   ]
  },
  {
   "cell_type": "code",
   "execution_count": 20,
   "metadata": {
    "collapsed": false
   },
   "outputs": [
    {
     "data": {
      "image/png": "[encoded data removed]",
      "text/plain": [
       "PyPlot.Figure(PyObject <matplotlib.figure.Figure object at 0x7fc69118b510>)"
      ]
     },
     "metadata": {},
     "output_type": "display_data"
    }
   ],
   "source": [
    "histogram_randn(1000);"
   ]
  },
  {
   "cell_type": "markdown",
   "metadata": {},
   "source": [
    "Se ve que si se hace un número de divisiones del orden o mayor al número de datos se pierde por completo la forma porque ahora en cada `bin` sólo hay a veces un sólo dato aunque se esté en la región del máximo de la gaussiana. Con esto en mente, modificamos la función para que no nos deje hacer estas cosas:"
   ]
  },
  {
   "cell_type": "code",
   "execution_count": 21,
   "metadata": {
    "collapsed": false
   },
   "outputs": [
    {
     "data": {
      "text/plain": [
       "histogram_randn_pretty (generic function with 1 method)"
      ]
     },
     "execution_count": 21,
     "metadata": {},
     "output_type": "execute_result"
    }
   ],
   "source": [
    "\"\"\" \n",
    "histogram_randn_pretty(n_bins)\n",
    "\n",
    "Esta función toma como entrada un entero n_bins (y solamente un entero, de otro\n",
    "modo es inválida). Primero se calcula un arreglo de datos con números aleatorios.\n",
    "Dicho arreglo abarca un intervalo [minimum(data), maximum(data)] que se parte en\n",
    "n_bins subintervalos del mismo tamaño. Se regresa un n_hist tipo Array{Int64,1} \n",
    "de dimensión n_bins que trae en la entrada n_hist[i] el número de datos que\n",
    "entraron en dicho intervalo.\n",
    "\n",
    "Si n_bins es mayor que el número de datos N = 10000 se toma por default\n",
    "n_bins = floor(N/10).\n",
    "\"\"\"\n",
    "function histogram_randn_pretty{T <: Int64}(n_bins::T)\n",
    "    # Lo primero que se hace es verificar que efectivamente n_bin es un número\n",
    "    # entero, de otro modo la función no corre.\n",
    "    # Después tenemos que generar nuestros datos. El número es arbitrario\n",
    "    # y lo elegimos como dice el inciso, N = 10000.\n",
    "    N = 10000\n",
    "    # Ahora la condición de que nbins no sea mayor que floor(N/100)\n",
    "    n_bins = (n_bins < floor(Int64,N/100)) ? n_bins : floor(Int64,N/100)\n",
    "    data = randn(N)\n",
    "    # Con el arreglo lleno de datos, procedemos a encontrar los supremos e\n",
    "    # ínfimos.\n",
    "    sup = maximum(data)\n",
    "    inf = minimum(data)\n",
    "    # Con estos valores se puede calcular len_bin\n",
    "    len_bin = (sup - inf)/n_bins\n",
    "    # Ahora se inicializa el arreglo de tamaño n_bins que tiene las frecuencias\n",
    "    # no normalizadas. Se inicializa naturalmente, lleno de ceros.\n",
    "    n_hist = zeros(Int64, n_bins)\n",
    "    # Después, con un ciclo for, se le asigna a cada dato un índice que es su\n",
    "    # número de bin y dicho bin se incrementa en uno.\n",
    "    for d in data\n",
    "        i = floor(Int64, (d-inf)/len_bin) + 1 # Como se ve, se está calculando el\n",
    "        # número de longitudes len_bin que se encuentra un dato desde el mínimo\n",
    "        # este número de longitudes más uno (pues el mínimo está en el bin\n",
    "        # 1 no el bin 0) es el índice. Excepto si...\n",
    "        i = (i > n_bins) ? n_bins : i # Esta sutileza viene de la convención de que\n",
    "        # n_hist[1] es el primer bin y debe contener a minimum(data), pero del mismo\n",
    "        # modo n_hist[n_bins] contiene al último bin y dentro se considera a \n",
    "        # maximum(data), sólo que nuestro indexado de la línea anterior lo\n",
    "        # metería en el siguiente bin y estaría fuera de rango. Lo que se hace es\n",
    "        # meter este valor en el último bin con un sencillo if.\n",
    "        n_hist[i] = n_hist[i] + 1\n",
    "    end\n",
    "    # Finalmente se regresa el arreglo de frecuencias.\n",
    "    # Vamos a graficar usando un bar_plot, bar de PyPlot. Esta función tiene\n",
    "    # como entrada básica bar(x,y) donde x y y son arreglos del mismo tamaño,\n",
    "    # x corresponde a la variable independiente y y a la dependiente que se\n",
    "    # grafica como una barra. Por eso necesitamos el arreglo x que nos da el\n",
    "    # bin correspondiente.\n",
    "    x = [1:1:n_bins;]\n",
    "    fig = figure(\"pyplot_barplot\", figsize = (6,4))\n",
    "    b = bar(x,n_hist, color=\"b\",align=\"center\")\n",
    "    title(\"Histograma de datos aleatorios\")\n",
    "    xlabel(\"Bin\")\n",
    "    ylabel(\"Frecuencia\")\n",
    "    xlim(0,n_bins)\n",
    "    show()\n",
    "    return n_hist\n",
    "end"
   ]
  },
  {
   "cell_type": "code",
   "execution_count": 22,
   "metadata": {
    "collapsed": false
   },
   "outputs": [
    {
     "data": {
      "image/png": "[encoded data removed]",
      "text/plain": [
       "PyPlot.Figure(PyObject <matplotlib.figure.Figure object at 0x7fc690d73910>)"
      ]
     },
     "metadata": {},
     "output_type": "display_data"
    }
   ],
   "source": [
    "histogram_randn_pretty(100);"
   ]
  },
  {
   "cell_type": "markdown",
   "metadata": {},
   "source": [
    "Lo último que procede a este ejercicio es implementar la función de PyPlot para histogramas. La referencia es https://gist.github.com/gizmaa/7214002#histogram"
   ]
  },
  {
   "cell_type": "markdown",
   "metadata": {},
   "source": [
    "Básciamente el uso es `PyPlot.plt.hist(x,nbins)` donde `x` es el arreglo de datos y `nbins` es obviamente el número de `bins` en que se van a partir los datos. La manera de referenciar `PyPlot.plt.hist` es algo distinta en `Julia`."
   ]
  },
  {
   "cell_type": "code",
   "execution_count": 23,
   "metadata": {
    "collapsed": false
   },
   "outputs": [
    {
     "data": {
      "image/png": "[encoded data removed]",
      "text/plain": [
       "PyPlot.Figure(PyObject <matplotlib.figure.Figure object at 0x7fc68f7b54d0>)"
      ]
     },
     "metadata": {},
     "output_type": "display_data"
    }
   ],
   "source": [
    "fig = figure(\"pyplot_histogram\",figsize=(6,4))\n",
    "plt[:hist](data,n_bins)\n",
    "xlabel(\"Número aleatorio\")\n",
    "ylabel(\"Frecuencia\")\n",
    "title(\"Histograma de datos aleatorios\")\n",
    "show()"
   ]
  },
  {
   "cell_type": "markdown",
   "metadata": {},
   "source": [
    "## 2. Promedio y varianza"
   ]
  },
  {
   "cell_type": "markdown",
   "metadata": {},
   "source": [
    "(a). Implementamos rápidamente una función que nos dé los datos aleatorios:"
   ]
  },
  {
   "cell_type": "code",
   "execution_count": 24,
   "metadata": {
    "collapsed": false
   },
   "outputs": [
    {
     "data": {
      "text/plain": [
       "get_data (generic function with 2 methods)"
      ]
     },
     "execution_count": 24,
     "metadata": {},
     "output_type": "execute_result"
    }
   ],
   "source": [
    "function get_data()\n",
    "    # Con la función randn podemos crear el arreglo por default\n",
    "    return randn(10000)\n",
    "end\n",
    "\n",
    "function get_data{T <: Int64}(n::T)\n",
    "    # En el caso de que queramos un número de datos definidos.\n",
    "    return randn(n)\n",
    "end"
   ]
  },
  {
   "cell_type": "markdown",
   "metadata": {},
   "source": [
    "Queremos calcular el promedio de estos datos. Sencillamete debemos sumarlos todos y dividirlos entre la longitud de ellos."
   ]
  },
  {
   "cell_type": "code",
   "execution_count": 25,
   "metadata": {
    "collapsed": false
   },
   "outputs": [
    {
     "data": {
      "text/plain": [
       "10000-element Array{Float64,1}:\n",
       " -0.0307566 \n",
       " -1.28289   \n",
       "  0.715531  \n",
       "  0.616322  \n",
       " -1.71624   \n",
       " -0.62442   \n",
       " -0.52698   \n",
       " -0.39157   \n",
       "  1.40514   \n",
       "  0.949092  \n",
       " -0.864609  \n",
       "  0.378031  \n",
       "  0.33559   \n",
       "  ⋮         \n",
       "  0.914582  \n",
       " -1.09642   \n",
       " -0.00700809\n",
       " -0.814474  \n",
       "  0.721693  \n",
       "  0.395503  \n",
       "  1.41704   \n",
       " -0.129561  \n",
       " -0.127024  \n",
       "  1.69695   \n",
       "  2.01682   \n",
       "  0.888183  "
      ]
     },
     "execution_count": 25,
     "metadata": {},
     "output_type": "execute_result"
    }
   ],
   "source": [
    "data = get_data()    "
   ]
  },
  {
   "cell_type": "code",
   "execution_count": 26,
   "metadata": {
    "collapsed": false
   },
   "outputs": [
    {
     "data": {
      "text/plain": [
       "get_avg (generic function with 1 method)"
      ]
     },
     "execution_count": 26,
     "metadata": {},
     "output_type": "execute_result"
    }
   ],
   "source": [
    "\"\"\"\n",
    "get_avg(data)\n",
    "\n",
    "Toma como entrada un arreglo unidmensional de tipo Float64 y regresa su\n",
    "promedio.\n",
    "\"\"\"\n",
    "function get_avg{T <: Array{Float64,1}}(data::T)\n",
    "    # Especificamos el tipo del arreglo.\n",
    "    # Se calcula el promedio de manera usual.\n",
    "    s = 0.0\n",
    "    for d in data\n",
    "        s = s + d\n",
    "    end\n",
    "    return s/length(data)\n",
    "end"
   ]
  },
  {
   "cell_type": "markdown",
   "metadata": {},
   "source": [
    "Para nuestro archivo, el promedio sería:"
   ]
  },
  {
   "cell_type": "code",
   "execution_count": 27,
   "metadata": {
    "collapsed": false
   },
   "outputs": [
    {
     "data": {
      "text/plain": [
       "0.0035850184217203107"
      ]
     },
     "execution_count": 27,
     "metadata": {},
     "output_type": "execute_result"
    }
   ],
   "source": [
    "get_avg(data)"
   ]
  },
  {
   "cell_type": "markdown",
   "metadata": {},
   "source": [
    "La varianza se calcula de la manera habitual también:"
   ]
  },
  {
   "cell_type": "code",
   "execution_count": 28,
   "metadata": {
    "collapsed": false
   },
   "outputs": [
    {
     "data": {
      "text/plain": [
       "get_var (generic function with 1 method)"
      ]
     },
     "execution_count": 28,
     "metadata": {},
     "output_type": "execute_result"
    }
   ],
   "source": [
    "\"\"\"\n",
    "get_var(data)\n",
    "\n",
    "Toma como entrada un arreglo unidmensional de tipo Float64 y regresa su\n",
    "varianza.\n",
    "\"\"\"\n",
    "function get_var{T <: Array{Float64,1}}(data::T)\n",
    "    # Especificamos el tipo del arreglo.\n",
    "    # No queremos arreglos de longitud uno o menos pues son triviales.\n",
    "    if length(data) <= 1\n",
    "        return Void\n",
    "    end\n",
    "    # Se calcula la varianza de manera usual.\n",
    "    s = 0.0\n",
    "    av = get_avg(data) # Obtenemos el promedio con la función anterior.\n",
    "    for d in data\n",
    "        s = s + (d-av)^2\n",
    "    end\n",
    "    return s/(length(data)-1) # Este length(data) -1 es una cuestión de\n",
    "    # convención , coincide con la convención que utiliza Julia en su\n",
    "    # función var(data).\n",
    "end"
   ]
  },
  {
   "cell_type": "markdown",
   "metadata": {},
   "source": [
    "La varianza $s^2$ para estos datos es"
   ]
  },
  {
   "cell_type": "code",
   "execution_count": 29,
   "metadata": {
    "collapsed": false
   },
   "outputs": [
    {
     "data": {
      "text/plain": [
       "1.005763669877532"
      ]
     },
     "execution_count": 29,
     "metadata": {},
     "output_type": "execute_result"
    }
   ],
   "source": [
    "get_var(data)"
   ]
  },
  {
   "cell_type": "markdown",
   "metadata": {},
   "source": [
    "Ahora comprobamos con las funciones de `Julia`:"
   ]
  },
  {
   "cell_type": "code",
   "execution_count": 30,
   "metadata": {
    "collapsed": false
   },
   "outputs": [
    {
     "data": {
      "text/plain": [
       "0.0035850184217203042"
      ]
     },
     "execution_count": 30,
     "metadata": {},
     "output_type": "execute_result"
    }
   ],
   "source": [
    "mean(data)"
   ]
  },
  {
   "cell_type": "code",
   "execution_count": 31,
   "metadata": {
    "collapsed": false
   },
   "outputs": [
    {
     "data": {
      "text/plain": [
       "1.00576366987753"
      ]
     },
     "execution_count": 31,
     "metadata": {},
     "output_type": "execute_result"
    }
   ],
   "source": [
    "var(data)"
   ]
  },
  {
   "cell_type": "markdown",
   "metadata": {},
   "source": [
    "Es claro que coinciden muy bien, la diferencia viene a partir de la cifra 14 decimal. Para ser más claros en cuanto a al comparación, se presentan en forma de tabla:\n",
    "\n",
    "|Función | Resultado|\n",
    "|--------|:--------|\n",
    "|`get_avg`|0.0035850184217203107|\n",
    "|`mean` |0.0035850184217203042|\n",
    "|`get_var`|1.005763669877532|\n",
    "|`var`|1.00576366987753|\n",
    "\n",
    "En cuanto a su tiempo de cómputo para cada una:"
   ]
  },
  {
   "cell_type": "code",
   "execution_count": 32,
   "metadata": {
    "collapsed": false
   },
   "outputs": [
    {
     "name": "stdout",
     "output_type": "stream",
     "text": [
      "  "
     ]
    },
    {
     "data": {
      "text/plain": [
       "0.0035850184217203107"
      ]
     },
     "execution_count": 32,
     "metadata": {},
     "output_type": "execute_result"
    }
   ],
   "source": [
    "@time get_avg(data); @time get_avg(data)"
   ]
  },
  {
   "cell_type": "code",
   "execution_count": 33,
   "metadata": {
    "collapsed": false
   },
   "outputs": [
    {
     "data": {
      "text/plain": [
       "0.0035850184217203042"
      ]
     },
     "execution_count": 33,
     "metadata": {},
     "output_type": "execute_result"
    }
   ],
   "source": [
    "@time mean(data); @time mean(data)"
   ]
  },
  {
   "cell_type": "code",
   "execution_count": 34,
   "metadata": {
    "collapsed": false
   },
   "outputs": [
    {
     "data": {
      "text/plain": [
       "1.005763669877532"
      ]
     },
     "execution_count": 34,
     "metadata": {},
     "output_type": "execute_result"
    }
   ],
   "source": [
    "@time get_var(data); @time get_var(data)"
   ]
  },
  {
   "cell_type": "code",
   "execution_count": 35,
   "metadata": {
    "collapsed": false
   },
   "outputs": [
    {
     "data": {
      "text/plain": [
       "1.00576366987753"
      ]
     },
     "execution_count": 35,
     "metadata": {},
     "output_type": "execute_result"
    }
   ],
   "source": [
    "@time var(data); @time var(data)"
   ]
  },
  {
   "cell_type": "markdown",
   "metadata": {},
   "source": [
    "Se ve que las funciones propias de Julia son más rápidas hasta ahora pero nótese que nuestra función `get_var` ocupa casi la mitad de memoria que la función `var`, seguramente porque el cálculo del promedio se hace afuera. Continuaremos esta discusión en el inciso (c)."
   ]
  },
  {
   "cell_type": "markdown",
   "metadata": {},
   "source": [
    "(b). Ahora implementamos el algoritmo recursivo."
   ]
  },
  {
   "cell_type": "markdown",
   "metadata": {},
   "source": [
    "Para la media:\n",
    "    $$\\bar{x}_n = \\bar{x}_{n-1} +\\frac{x_n-\\bar{x}_{n-1}}{n}$$"
   ]
  },
  {
   "cell_type": "code",
   "execution_count": 36,
   "metadata": {
    "collapsed": false
   },
   "outputs": [
    {
     "data": {
      "text/plain": [
       "get_avg_online (generic function with 1 method)"
      ]
     },
     "execution_count": 36,
     "metadata": {},
     "output_type": "execute_result"
    }
   ],
   "source": [
    "\"\"\"\n",
    "get_avg_online(data)\n",
    "\n",
    "Toma como entrada un arreglo unidmensional de tipo Float64 y regresa su\n",
    "promedio de manera recursiva. Véase https://en.wikipedia.org/wiki/Algorithms_for_calculating_variance#Online_algorithm\n",
    "\"\"\"\n",
    "function get_avg_online{T <: Array{Float64,1}}(data::T)\n",
    "    # Especificamos el tipo del arreglo.\n",
    "    # Se calcula recursivamente la media de acuerdo a la referencia.\n",
    "    s = 0.0\n",
    "    for (i, d) in enumerate(data)\n",
    "        s = s + (d-s)/i \n",
    "    end\n",
    "    return s\n",
    "end"
   ]
  },
  {
   "cell_type": "code",
   "execution_count": 37,
   "metadata": {
    "collapsed": false
   },
   "outputs": [
    {
     "data": {
      "text/plain": [
       "0.0035850184217203233"
      ]
     },
     "execution_count": 37,
     "metadata": {},
     "output_type": "execute_result"
    }
   ],
   "source": [
    "get_avg_online(data)"
   ]
  },
  {
   "cell_type": "markdown",
   "metadata": {},
   "source": [
    "Para la varianza volvemos a resaltar que estamos tratando en este caso (para ser consistentes con `Julia`) con la varianza de una muestra. Así el algoritmo que se usa es el que tiene estabilidad numérica seguún la referencia https://en.wikipedia.org/wiki/Algorithms_for_calculating_variance#Online_algorithm\n",
    "\n",
    "$$s^2_n = \\frac{M_{2,n}}{n-1},\\qquad M_{2,n}=M_{2,n-1} + (x_n-\\bar{x}_{n-1})(x_n -\\bar{x}_n)$$"
   ]
  },
  {
   "cell_type": "code",
   "execution_count": 38,
   "metadata": {
    "collapsed": false
   },
   "outputs": [
    {
     "data": {
      "text/plain": [
       "get_var_online (generic function with 1 method)"
      ]
     },
     "execution_count": 38,
     "metadata": {},
     "output_type": "execute_result"
    }
   ],
   "source": [
    "\"\"\"\n",
    "get_var_online(data)\n",
    "\n",
    "Toma como entrada un arreglo unidmensional de tipo Float64 y regresa su\n",
    "varianza de manera recursiva. Véase https://en.wikipedia.org/wiki/Algorithms_for_calculating_variance#Online_algorithm\n",
    "\"\"\"\n",
    "function get_var_online{T <: Array{Float64,1}}(data::T)\n",
    "    # Especificamos el tipo del arreglo.\n",
    "    # No queremos arreglos de longitud uno o menos pues son triviales.\n",
    "    if length(data) <= 1\n",
    "        return Void\n",
    "    end\n",
    "    # Se calcula recursivamente la media de acuerdo a la referencia.\n",
    "    s = 0.0\n",
    "    M = 0.0\n",
    "    p = 0.0\n",
    "    p_new = 0.0\n",
    "    for (i, d) in enumerate(data)\n",
    "        if i == 1 # Para el primer dato no se calcula la varianza pero sí\n",
    "            #las otras cantidades.\n",
    "            p_new = p + (d-p)/i  # El promedio hasta el dato i según la manera \n",
    "            # recursiva de la función anterior.\n",
    "            M = M + (d-p)*(d-p_new) # La cantidad M_{2,n} según la fórmula.\n",
    "            # Se ve que se usan los dos promedios anteriores.\n",
    "            p = p_new # Se reasignan los promedios.\n",
    "            continue\n",
    "        end\n",
    "        p_new = p + (d-p)/i  # El promedio hasta el dato i según la manera \n",
    "        # recursiva de la función anterior.\n",
    "        M = M + (d-p)*(d-p_new)\n",
    "        p = p_new\n",
    "        s = M/(i-1)\n",
    "    end\n",
    "    return s\n",
    "end"
   ]
  },
  {
   "cell_type": "markdown",
   "metadata": {},
   "source": [
    "La varianza es así:"
   ]
  },
  {
   "cell_type": "code",
   "execution_count": 39,
   "metadata": {
    "collapsed": false
   },
   "outputs": [
    {
     "data": {
      "text/plain": [
       "1.00576366987753"
      ]
     },
     "execution_count": 39,
     "metadata": {},
     "output_type": "execute_result"
    }
   ],
   "source": [
    "get_var_online(data)"
   ]
  },
  {
   "cell_type": "markdown",
   "metadata": {},
   "source": [
    "Añadimos estos resultados a nuestra tabla anterior:\n",
    "\n",
    "|Función | Resultado|\n",
    "|--------|:--------|\n",
    "|`get_avg`|0.0035850184217203107|\n",
    "|`get_avg_online`|0.0035850184217203233|\n",
    "|`mean` |0.0035850184217203042|\n",
    "|`get_var`|1.005763669877532|\n",
    "|`get_var_online`|1.00576366987753|\n",
    "|`var`|1.00576366987753|"
   ]
  },
  {
   "cell_type": "markdown",
   "metadata": {},
   "source": [
    "Podemos complementar la discusión con base en la tabla anterior viendo que tenemos para cada caso 15 cifras significativas de acuerdo. Esto es consistente con la definición de un `Float64` de acuerdo a como viene en [wikipedia](https://en.wikipedia.org/wiki/Double-precision_floating-point_format)"
   ]
  },
  {
   "cell_type": "markdown",
   "metadata": {},
   "source": [
    "(c). Ahora sí vamos a comparar los tiempos de ejecución para distintos datos usando `get_data(n)`. El macro que vamos a utilizar es `@elapsed` porque este devuelve el tiempo de ejecución a diferencia de `@time` que sólo lo imprime."
   ]
  },
  {
   "cell_type": "code",
   "execution_count": 40,
   "metadata": {
    "collapsed": false
   },
   "outputs": [
    {
     "data": {
      "text/plain": [
       "0.000169564"
      ]
     },
     "execution_count": 40,
     "metadata": {},
     "output_type": "execute_result"
    }
   ],
   "source": [
    "@elapsed get_var_online(data)"
   ]
  },
  {
   "cell_type": "markdown",
   "metadata": {},
   "source": [
    "Ahora vamos a hacer una función sencilla que nos devuelva un arreglo con tres columnas, cada columna con el tiempo de los tres métodos distintos. Serán cinco filas correspondiente la fila $i$ a un archvio de $10^{1+i}$ datos."
   ]
  },
  {
   "cell_type": "code",
   "execution_count": 41,
   "metadata": {
    "collapsed": false
   },
   "outputs": [
    {
     "data": {
      "text/plain": [
       "three_methods_avg (generic function with 1 method)"
      ]
     },
     "execution_count": 41,
     "metadata": {},
     "output_type": "execute_result"
    },
    {
     "name": "stdout",
     "output_type": "stream",
     "text": [
      "0.000020 seconds (149 allocations: 10.167 KB)\n",
      "  0.000018 seconds (5 allocations: 176 bytes)\n",
      "  0.000007 seconds (5 allocations: 176 bytes)\n",
      "  0.000006 seconds (5 allocations: 176 bytes)\n",
      "  0.000023 seconds (5 allocations: 176 bytes)\n",
      "  0.000022 seconds (5 allocations: 176 bytes)\n",
      "  0.000015 seconds (8 allocations: 288 bytes)\n",
      "  0.000012 seconds (8 allocations: 288 bytes)\n"
     ]
    }
   ],
   "source": [
    "function three_methods_avg()\n",
    "    t = Array{Float64}(5,3) # Se inicializa el arreglo.\n",
    "    t1 = 0.0\n",
    "    t2 = 0.0\n",
    "    t3 = 0.0\n",
    "    n = 10\n",
    "    i = 1\n",
    "    while n <= 100000\n",
    "        data = get_data(n) # Se obtienen los n datos.\n",
    "        t1 = @elapsed get_avg(data)\n",
    "        t1 = @elapsed get_avg(data) # Se ejecutan dos veces los tiempos\n",
    "        # de compilación.\n",
    "        t2 = @elapsed mean(data)\n",
    "        t2 = @elapsed mean(data)\n",
    "        t3 = @elapsed get_avg_online(data)\n",
    "        t3 = @elapsed get_avg_online(data)\n",
    "        t[i,1] = t1 # Se escriben al arreglo.\n",
    "        t[i,2] = t2\n",
    "        t[i,3] = t3\n",
    "        i = i + 1 # Se aumenta el contador y el orden de magnitud de n.\n",
    "        n = n * 10\n",
    "    end\n",
    "    return t\n",
    "end"
   ]
  },
  {
   "cell_type": "code",
   "execution_count": 42,
   "metadata": {
    "collapsed": false
   },
   "outputs": [
    {
     "data": {
      "text/plain": [
       "5x3 Array{Float64,2}:\n",
       " 8.2e-8       8.8e-8     1.38e-7    \n",
       " 2.0e-7       2.14e-7    8.8e-7     \n",
       " 1.388e-6     5.88e-7    8.652e-6   \n",
       " 1.3415e-5    5.853e-6   8.4941e-5  \n",
       " 0.000152343  6.9749e-5  0.000913712"
      ]
     },
     "execution_count": 42,
     "metadata": {},
     "output_type": "execute_result"
    }
   ],
   "source": [
    "avg_times = three_methods_avg()"
   ]
  },
  {
   "cell_type": "markdown",
   "metadata": {},
   "source": [
    "Una función completamente análoga para la varianza."
   ]
  },
  {
   "cell_type": "code",
   "execution_count": 43,
   "metadata": {
    "collapsed": false
   },
   "outputs": [
    {
     "data": {
      "text/plain": [
       "three_methods_var (generic function with 1 method)"
      ]
     },
     "execution_count": 43,
     "metadata": {},
     "output_type": "execute_result"
    }
   ],
   "source": [
    "function three_methods_var()\n",
    "    t = Array{Float64}(5,3) # Se inicializa el arreglo.\n",
    "    t1 = 0.0\n",
    "    t2 = 0.0\n",
    "    t3 = 0.0\n",
    "    n = 10\n",
    "    i = 1\n",
    "    while n <= 100000\n",
    "        data = get_data(n) # Se obtienen los n datos.\n",
    "        t1 = @elapsed get_var(data)\n",
    "        t1 = @elapsed get_var(data) # Se ejecutan dos veces los tiempos\n",
    "        # de compilación.\n",
    "        t2 = @elapsed var(data)\n",
    "        t2 = @elapsed var(data)\n",
    "        t3 = @elapsed get_var_online(data)\n",
    "        t3 = @elapsed get_var_online(data)\n",
    "        t[i,1] = t1 # Se escriben al arreglo.\n",
    "        t[i,2] = t2\n",
    "        t[i,3] = t3\n",
    "        i = i + 1 # Se aumenta el contador y el orden de magnitud de n.\n",
    "        n = n * 10\n",
    "    end\n",
    "    return t\n",
    "end"
   ]
  },
  {
   "cell_type": "code",
   "execution_count": 44,
   "metadata": {
    "collapsed": false
   },
   "outputs": [
    {
     "data": {
      "text/plain": [
       "5x3 Array{Float64,2}:\n",
       " 1.32e-7      3.58e-7    1.68e-7    \n",
       " 2.73e-7      3.5e-7     1.544e-6   \n",
       " 2.141e-6     9.78e-7    1.5463e-5  \n",
       " 2.0957e-5    9.264e-6   0.000155426\n",
       " 0.000211377  9.4135e-5  0.00155427 "
      ]
     },
     "execution_count": 44,
     "metadata": {},
     "output_type": "execute_result"
    }
   ],
   "source": [
    "var_times = three_methods_var()"
   ]
  },
  {
   "cell_type": "markdown",
   "metadata": {},
   "source": [
    "Teniendo los arreglos podemos graficarlos."
   ]
  },
  {
   "cell_type": "code",
   "execution_count": 45,
   "metadata": {
    "collapsed": false
   },
   "outputs": [
    {
     "data": {
      "image/png": "[encoded data removed]",
      "text/plain": [
       "PyPlot.Figure(PyObject <matplotlib.figure.Figure object at 0x7fc690489e50>)"
      ]
     },
     "metadata": {},
     "output_type": "display_data"
    },
    {
     "data": {
      "text/plain": [
       "PyObject <matplotlib.legend.Legend object at 0x7fc68f13d690>"
      ]
     },
     "execution_count": 45,
     "metadata": {},
     "output_type": "execute_result"
    }
   ],
   "source": [
    "a1 = scatter([1,2,3,4,5],log(avg_times[:,1]),c=\"r\",label = \"get_avg\"); \n",
    "a2 = scatter([1,2,3,4,5],log(avg_times[:,2]), c=\"g\", label = \"mean\"); \n",
    "a3 = scatter([1,2,3,4,5],log(avg_times[:,3]), label = \"get_avg_online\");\n",
    "title(\"Execute time for avg functions\")\n",
    "xlabel(L\"Number of data points $10^{i+1}$\"L)\n",
    "ylabel(L\"$log(t)$ (s)\")\n",
    "legend(handles = [a1,a2,a3],bbox_to_anchor=(1.05, 1), loc=2, borderaxespad=0.)"
   ]
  },
  {
   "cell_type": "markdown",
   "metadata": {},
   "source": [
    "En rojo se ve la implementación manual `get_avg`, en verde la función de `Julia` `mean` y en azul la implementación recursiva `get_avg_online`"
   ]
  },
  {
   "cell_type": "markdown",
   "metadata": {},
   "source": [
    "Claramente, la función `mean` tiene el mejor tiempo de ejecución pero la implementación manual no se queda muy atrás, posiblemente porque es tan sencilla. Para el caso de la varianza se ve un efecto completamente igual:"
   ]
  },
  {
   "cell_type": "code",
   "execution_count": 46,
   "metadata": {
    "collapsed": false
   },
   "outputs": [
    {
     "data": {
      "image/png": "[encoded data removed]",
      "text/plain": [
       "PyPlot.Figure(PyObject <matplotlib.figure.Figure object at 0x7fc68f4451d0>)"
      ]
     },
     "metadata": {},
     "output_type": "display_data"
    },
    {
     "data": {
      "text/plain": [
       "PyObject <matplotlib.legend.Legend object at 0x7fc68efece10>"
      ]
     },
     "execution_count": 46,
     "metadata": {},
     "output_type": "execute_result"
    }
   ],
   "source": [
    "b1 = scatter([1,2,3,4,5],log(var_times[:,1]),c=\"r\",label = \"get_var\"); \n",
    "b2 = scatter([1,2,3,4,5],log(var_times[:,2]), c=\"g\", label = \"var\"); \n",
    "b3 = scatter([1,2,3,4,5],log(var_times[:,3]), label = \"get_var_online\");\n",
    "title(\"Execute time for var functions\")\n",
    "xlabel(L\"Number of data points $10^{i+1}$\"L)\n",
    "ylabel(L\"$log(t)$ (s)\")\n",
    "legend(handles = [b1,b2,b3],bbox_to_anchor=(1.05, 1), loc=2, borderaxespad=0.)"
   ]
  },
  {
   "cell_type": "markdown",
   "metadata": {},
   "source": [
    "## 3. Método de Simpson"
   ]
  },
  {
   "cell_type": "markdown",
   "metadata": {},
   "source": [
    "La regla de [simpson](https://en.wikipedia.org/wiki/Simpson%27s_rule) dice que si un intervalo $[a,b]$ está dividido en $n$ subintervalos con $n$ un número par, la aproximación a la integral de una función de una variable est\\' dada como\n",
    "\n",
    "$$\\int_a^b f(x)\\,dx = \\frac{h}{3}\\,\\left(f(a)+2\\,\\sum_{j = 1}^{n/2-1}f(x_{2j})+4\\,\\sum_{j = 1}^{n/2}f(x_{2j-1}) + f(b)\\right) $$\n",
    "\n",
    "donde $h= (b-a)/n$. La implementación es muy clara:"
   ]
  },
  {
   "cell_type": "code",
   "execution_count": 47,
   "metadata": {
    "collapsed": false
   },
   "outputs": [
    {
     "data": {
      "text/plain": [
       "simpson (generic function with 1 method)"
      ]
     },
     "execution_count": 47,
     "metadata": {},
     "output_type": "execute_result"
    }
   ],
   "source": [
    "\"\"\"\n",
    "simpson(f,a,b,n)\n",
    "\n",
    "Se implementa el método de Simpson https://en.wikipedia.org/wiki/Simpson%27s_rule,\n",
    "para la función f, integrándola entre los valores reales a y b y dividiendo\n",
    "dicho intervalo en n subintervalos. Si n es par se harán n subintervalos pero si\n",
    "es impar se harán n+1 intervalos pues se requiere un número par de subintervalos.\n",
    "Se regresa el valor aproximado de la integral.\n",
    "\"\"\"\n",
    "function simpson(f::Function, a::Real, b::Real, n::Int64)\n",
    "    # Lo primero que hacemos después de declarar las variables y ver que\n",
    "    # n no sea menor que cero, es ver si n, el número de subintervalos es\n",
    "    #par. Si sí lo es queda igual, si no se aumenta en uno para serlo.\n",
    "    if n <= 0\n",
    "        return Void\n",
    "    end\n",
    "    n = (n % 2 == 0) ? n : n + 1\n",
    "    # Ahora se declara h, la subdivisión.\n",
    "    h = (b-a)/n\n",
    "    # Del mismo modo, el arreglo de x_1 a x_{n-1}\n",
    "    x_range = a+h:h:b-h\n",
    "    # La integral se inicializa con los valores h*(f(a)+f(b))/3.\n",
    "    i = (f(a)+f(b))*h/3\n",
    "    # Se inicializa una bandera que nos dice si el valor x_i tiene i impar\n",
    "    # o par. Empieza en cero, dicendo que es impar con x_1.\n",
    "    j = 0\n",
    "    # Se realizan las sumas:\n",
    "    for x in x_range\n",
    "        # Primero el caso de x_i con i impar que tiene la suma multiplicada\n",
    "        # por cuatro según la fórmula.\n",
    "        if j == 0\n",
    "            i = i + 4*h*f(x)/3\n",
    "            # Se cambia la bandera porque la siguiente x_i tendrá i par.\n",
    "            j = 1\n",
    "            # Se continua con el siguiente ciclo.\n",
    "            continue\n",
    "        end\n",
    "        # Lo mismo pero ahora para las pares.\n",
    "        if j ==1\n",
    "            i = i + 2*h*f(x)/3\n",
    "            j = 0\n",
    "            continue\n",
    "        end\n",
    "    end\n",
    "    # Se regresa la integral.\n",
    "    return i\n",
    "end"
   ]
  },
  {
   "cell_type": "markdown",
   "metadata": {},
   "source": [
    "Probemos para la función seno:"
   ]
  },
  {
   "cell_type": "code",
   "execution_count": 48,
   "metadata": {
    "collapsed": false
   },
   "outputs": [
    {
     "data": {
      "text/plain": [
       "f (generic function with 1 method)"
      ]
     },
     "execution_count": 48,
     "metadata": {},
     "output_type": "execute_result"
    }
   ],
   "source": [
    "f(x) = sin(x)"
   ]
  },
  {
   "cell_type": "code",
   "execution_count": 49,
   "metadata": {
    "collapsed": false
   },
   "outputs": [
    {
     "data": {
      "text/plain": [
       "2.0000000108245035"
      ]
     },
     "execution_count": 49,
     "metadata": {},
     "output_type": "execute_result"
    }
   ],
   "source": [
    "simpson(f,0.0,pi,100)"
   ]
  },
  {
   "cell_type": "markdown",
   "metadata": {},
   "source": [
    "Se ve con 100 puntos ya se tiene una aproximación hasta la octava cifra decimal, recordemos que el error va como\n",
    "\n",
    "$$\\frac{h^4}{180}\\,(b-a)\\,\\text{max}\\left|f^{(4)}(\\xi)\\right|_{\\xi\\in[a,b]}$$"
   ]
  },
  {
   "cell_type": "markdown",
   "metadata": {},
   "source": [
    "Para el caso anterior, `h = pi/100` y la derivada está acotada por 1, así que se predice un error de:"
   ]
  },
  {
   "cell_type": "code",
   "execution_count": 50,
   "metadata": {
    "collapsed": false
   },
   "outputs": [
    {
     "data": {
      "text/plain": [
       "1.7001093599182307e-8"
      ]
     },
     "execution_count": 50,
     "metadata": {},
     "output_type": "execute_result"
    }
   ],
   "source": [
    "(pi/100)^4*pi/180"
   ]
  },
  {
   "cell_type": "markdown",
   "metadata": {},
   "source": [
    "Justo en la octava cifra decimal como se dijo."
   ]
  }
 ],
 "metadata": {
  "kernelspec": {
   "display_name": "Julia 0.4.2",
   "language": "julia",
   "name": "julia-0.4"
  },
  "language_info": {
   "file_extension": ".jl",
   "mimetype": "application/julia",
   "name": "julia",
   "version": "0.4.2"
  }
 },
 "nbformat": 4,
 "nbformat_minor": 0
}
