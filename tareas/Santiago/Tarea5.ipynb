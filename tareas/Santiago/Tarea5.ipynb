{
 "cells": [
  {
   "cell_type": "markdown",
   "metadata": {
    "slideshow": {
     "slide_type": "slide"
    }
   },
   "source": [
    "# Diferenciación automática: Parte 2"
   ]
  },
  {
   "cell_type": "markdown",
   "metadata": {},
   "source": [
    "### NOTA\n",
    "\n",
    "Este notebook se iniciará en la clase y **debe** hacerse en equipo, con los *mismos miembros* que participaron en la \"Tarea4.ipynb\". La resolución completa de los ejercicios debe ser enviada como \"Tarea5.ipynb\"."
   ]
  },
  {
   "cell_type": "markdown",
   "metadata": {
    "slideshow": {
     "slide_type": "slide"
    }
   },
   "source": [
    "## Funciones elementales"
   ]
  },
  {
   "cell_type": "markdown",
   "metadata": {},
   "source": [
    "Lo que se logró en la clase pasada fue, esencialmente, tener una manera de obtener primeras\n",
    "derivadas para cualquier función racional, esto es, cocientes de polinomios en una variable.\n",
    "\n",
    "El siguiente paso es incluir más funciones a fin de ampliar la aplicabilidad de lo hecho la vez pasada, en particular a las funciones elementales: $\\exp$, $\\log$, etc."
   ]
  },
  {
   "cell_type": "markdown",
   "metadata": {
    "slideshow": {
     "slide_type": "slide"
    }
   },
   "source": [
    "La extensión a estas funciones es elemental, y así por ejemplo tenemos:\n",
    "\n",
    "\\begin{eqnarray}\n",
    "\\exp[\\vec{f}(x_0)] &=& \\big( \\exp(f_0),\\, f'_0\\exp(f_0) \\,\\big),\\\\\n",
    "\\log[\\vec{f}(x_0)] &=& \\big( \\log(f_0),\\, \\frac{f'_0}{f_0} \\,\\big),\\\\\n",
    "\\sin[\\vec{f}(x_0)] &=& \\big( \\sin(f_0),\\, f'_0\\cos(f_0) \\,\\big),\\\\\n",
    "\\cos[\\vec{f}(x_0)] &=& \\big( \\cos(f_0),\\, -f'_0\\sin(f_0) \\,\\big),\\\\\n",
    "\\tan[\\vec{f}(x_0)] &=& \\big( \\tan(f_0),\\, f'_0\\sec^2(f_0) \\,\\big),\\\\\n",
    "\\sinh[\\vec{f}(x_0)] &=& \\big( \\sinh(f_0),\\, f'_0\\cosh(f_0) \\,\\big),\\\\\n",
    "...\\\\\n",
    "\\end{eqnarray}\n",
    "\n",
    "Vale la pena enfatizar que la regla de la cadena se utiliza en la segunda componente del \n",
    "lado derecho de estas ecuaciones."
   ]
  },
  {
   "cell_type": "markdown",
   "metadata": {
    "collapsed": true,
    "slideshow": {
     "slide_type": "slide"
    }
   },
   "source": [
    "## Ejercicio\n",
    "\n",
    "Implementen las funciones relacionadas con potencias, exponenciales, logarítmos, las funciones trigonométricas y las hiperbólicas que tiene Julia definidas (ver la [documentación](http://julia.readthedocs.org/en/release-0.4/manual/mathematical-operations/#trigonometric-and-hyperbolic-functions)). La implementación debe incluir los tests adecuados. La manera en que implementen las cosas debe estar clara en el notebook \"Tarea5.ipynb\", pero toda la funcionalidad debe ser incluida en \"AutomDiff.jl\" al igual que en \"runtests.jl\"\n",
    "\n",
    "**Hint:** Aprovechen las capacidades de Julia en metaprogramming."
   ]
  },
  {
   "cell_type": "markdown",
   "metadata": {},
   "source": [
    "Primero se limpia el `workspace` para poder regresar y hacer pruebas;"
   ]
  },
  {
   "cell_type": "code",
   "execution_count": 1,
   "metadata": {
    "collapsed": true
   },
   "outputs": [],
   "source": [
    "workspace()"
   ]
  },
  {
   "cell_type": "markdown",
   "metadata": {},
   "source": [
    "Importamos el módulo AD en el archivo AutomDiff.jl y ejecutamos el runtest.jl para ver que funciona nuestro módulo. (En el archivo runtest.jl está la línea importante `using AD`)."
   ]
  },
  {
   "cell_type": "code",
   "execution_count": 2,
   "metadata": {
    "collapsed": true
   },
   "outputs": [],
   "source": [
    "include(\"AutomDiff.jl\")\n",
    "include(\"runtest.jl\")"
   ]
  },
  {
   "cell_type": "markdown",
   "metadata": {},
   "source": [
    "Después importamos las funciones que vamos a utilizar y definimos sencillamente el método para la exponencial y su derivada."
   ]
  },
  {
   "cell_type": "code",
   "execution_count": 3,
   "metadata": {
    "collapsed": false
   },
   "outputs": [
    {
     "data": {
      "text/plain": [
       "exp (generic function with 13 methods)"
      ]
     },
     "execution_count": 3,
     "metadata": {},
     "output_type": "execute_result"
    }
   ],
   "source": [
    "import Base: exp, log, sin, cos, tan, sinh, cosh, tanh, asin, \n",
    "            acos, atan, asinh, acosh, atanh\n",
    "exp(a::Dual) = Dual(exp(a.fun),a.der*exp(a.fun))"
   ]
  },
  {
   "cell_type": "markdown",
   "metadata": {},
   "source": [
    "Como cálculo explícito, se calcula la derivada de $\\exp(x^2)$:"
   ]
  },
  {
   "cell_type": "code",
   "execution_count": 4,
   "metadata": {
    "collapsed": false
   },
   "outputs": [
    {
     "data": {
      "text/plain": [
       "5.43656365691809"
      ]
     },
     "execution_count": 4,
     "metadata": {},
     "output_type": "execute_result"
    }
   ],
   "source": [
    "exp(xdual(1.0)^2).der"
   ]
  },
  {
   "cell_type": "code",
   "execution_count": 5,
   "metadata": {
    "collapsed": false
   },
   "outputs": [],
   "source": [
    "@test exp(xdual(1.0)^2).der == 2exp(1.0)"
   ]
  },
  {
   "cell_type": "markdown",
   "metadata": {},
   "source": [
    "Como se puede ver, funciona bien. Ahora definimos una lista de tuplas llamada `oper` que contiene la expresión por una parte y por otra parte la derivada. En muchos casos conviene utilizar funciones anónimas para no tener problemas en escribir los símbolos de por ejemplo, $\\frac{1}{1+x^2}$."
   ]
  },
  {
   "cell_type": "code",
   "execution_count": 6,
   "metadata": {
    "collapsed": false
   },
   "outputs": [],
   "source": [
    "oper = [(:exp, :exp), (:log, :inv), (:sin, :cos), (:cos, :(x -> -sin(x))),\n",
    "    (:tan, x -> (sec(x))^2), (:sinh, :cosh), (:cosh, :sinh),\n",
    "    (:tanh, x -> (sinh(x))^2),(:asin, x -> 1/sqrt(1-x^2)), (:acos, x -> -1/sqrt(1-x^2)),\n",
    "    (:atan, x -> 1/(1+x^2)), (:asinh, x -> 1/sqrt(x^2+1)), \n",
    "    (:acosh, x -> 1/(sqrt(x-1)sqrt(x+1))), (:atanh, x -> 1/(1-x^2))];"
   ]
  },
  {
   "cell_type": "markdown",
   "metadata": {},
   "source": [
    "Ahora simplemente iteramos sobre esta lista y usando `quote` generamos el código para las distitnas funciones en `oper`."
   ]
  },
  {
   "cell_type": "code",
   "execution_count": 7,
   "metadata": {
    "collapsed": false
   },
   "outputs": [],
   "source": [
    "for (f,fd) in oper # f es la función y fd la derivada\n",
    "    ex = quote\n",
    "        function  ($f)(a::Dual) # Aquí se define el método f para una dual\n",
    "            fu = ($f)(a.fun) # Sabemos que la primera entrada de la dual\n",
    "            # es la misma función.\n",
    "            de = a.der*($fd)(a.fun) # Para la derivada, tenemos la regla de\n",
    "            # la cadena que nos dice que mulipliquemos la derivada de la dual\n",
    "            # que estamos metiendo por la fd correspondiente valuada en a.fun\n",
    "            return Dual(fu, de)\n",
    "        end\n",
    "    end\n",
    "    @eval $ex # Evaluamos cada una de las expresiones que formamos.\n",
    "end"
   ]
  },
  {
   "cell_type": "markdown",
   "metadata": {},
   "source": [
    "Se hacen una serie de pruebas, mismas que están incluidas en el archivo runtest.jl"
   ]
  },
  {
   "cell_type": "code",
   "execution_count": 8,
   "metadata": {
    "collapsed": false
   },
   "outputs": [],
   "source": [
    "@test cos(xdual(pi)).der == -sin(pi)"
   ]
  },
  {
   "cell_type": "code",
   "execution_count": 9,
   "metadata": {
    "collapsed": true
   },
   "outputs": [],
   "source": [
    "@test sinh(xdual(pi)).der == cosh(pi)"
   ]
  },
  {
   "cell_type": "code",
   "execution_count": 35,
   "metadata": {
    "collapsed": false
   },
   "outputs": [],
   "source": [
    "@test exp(log(xdual(1.0))).der == xdual(1.0).der"
   ]
  },
  {
   "cell_type": "code",
   "execution_count": 45,
   "metadata": {
    "collapsed": false
   },
   "outputs": [],
   "source": [
    "@test (cos(xdual(2))^2).der+((sin(xdual(2)))^2).der ==0"
   ]
  },
  {
   "cell_type": "markdown",
   "metadata": {
    "slideshow": {
     "slide_type": "slide"
    }
   },
   "source": [
    "## Ejercicio\n",
    "\n",
    "Prueben su implementación calculando la derivada de $f(x) = \\sin\\Big(x^3 - \\frac{2}{x^6}\\Big)$\n",
    "en $x_0 = 2$.\n",
    "\n",
    "Dibujen, para $x_0 \\in [1,5]$ la función $f'(x)$."
   ]
  },
  {
   "cell_type": "markdown",
   "metadata": {},
   "source": [
    "Definimos a función:"
   ]
  },
  {
   "cell_type": "code",
   "execution_count": 11,
   "metadata": {
    "collapsed": false
   },
   "outputs": [
    {
     "data": {
      "text/plain": [
       "f (generic function with 1 method)"
      ]
     },
     "execution_count": 11,
     "metadata": {},
     "output_type": "execute_result"
    }
   ],
   "source": [
    "f(x) = sin(x^3 -2/x^6)"
   ]
  },
  {
   "cell_type": "markdown",
   "metadata": {},
   "source": [
    "Con lo trabajado en el ejercicio anterior podemos calcular la dual directamente."
   ]
  },
  {
   "cell_type": "code",
   "execution_count": 12,
   "metadata": {
    "collapsed": false
   },
   "outputs": [
    {
     "data": {
      "text/plain": [
       "AD.Dual{Float64}(0.9934213368955197,-1.384934905523464)"
      ]
     },
     "execution_count": 12,
     "metadata": {},
     "output_type": "execute_result"
    }
   ],
   "source": [
    "f(xdual(2))"
   ]
  },
  {
   "cell_type": "markdown",
   "metadata": {},
   "source": [
    "Hacemos la prubea de que la derivada sea correcta:"
   ]
  },
  {
   "cell_type": "code",
   "execution_count": 13,
   "metadata": {
    "collapsed": false
   },
   "outputs": [],
   "source": [
    "@test f(xdual(2)).der == cos(2.^3-2./2.^6)*(3*2.^2+12./2.^7)"
   ]
  },
  {
   "cell_type": "markdown",
   "metadata": {},
   "source": [
    "Importamos PyPlot y hacemos arreglos que nos permiten graficar 1000 puntos entre (1,5). El arreglo `y` se construye punto a punto para evitar vectorizar las funciones. Ésto porque aunque se pudo vectorizar `xdual` no se pudo vectorizar f."
   ]
  },
  {
   "cell_type": "code",
   "execution_count": 14,
   "metadata": {
    "collapsed": false
   },
   "outputs": [
    {
     "name": "stderr",
     "output_type": "stream",
     "text": [
      "WARNING: Method definition eachline(AbstractString) in module Compat at /home/james/.julia/v0.4/Compat/src/Compat.jl:820 overwritten in module Compat at /home/james/.julia/v0.4/Compat/src/Compat.jl:820.\n",
      "WARNING: Method definition readlines(AbstractString) in module Compat at /home/james/.julia/v0.4/Compat/src/Compat.jl:809 overwritten in module Compat at /home/james/.julia/v0.4/Compat/src/Compat.jl:809.\n",
      "WARNING: Method definition read(Main.Base.IO) in module Compat at /home/james/.julia/v0.4/Compat/src/Compat.jl:800 overwritten in module Compat at /home/james/.julia/v0.4/Compat/src/Compat.jl:800.\n",
      "WARNING: Method definition read(Main.Base.IO, Any) in module Compat at /home/james/.julia/v0.4/Compat/src/Compat.jl:801 overwritten in module Compat at /home/james/.julia/v0.4/Compat/src/Compat.jl:801.\n",
      "WARNING: Method definition read(AbstractString, Any...) in module Compat at /home/james/.julia/v0.4/Compat/src/Compat.jl:805 overwritten in module Compat at /home/james/.julia/v0.4/Compat/src/Compat.jl:805.\n",
      "WARNING: Method definition write(Main.Base.IO, Main.Base.IO) in module Compat at /home/james/.julia/v0.4/Compat/src/Compat.jl:814 overwritten in module Compat at /home/james/.julia/v0.4/Compat/src/Compat.jl:814.\n",
      "WARNING: Method definition write(AbstractString, Any...) in module Compat at /home/james/.julia/v0.4/Compat/src/Compat.jl:803 overwritten in module Compat at /home/james/.julia/v0.4/Compat/src/Compat.jl:803.\n",
      "WARNING: Method definition read!(AbstractString, Any) in module Compat at /home/james/.julia/v0.4/Compat/src/Compat.jl:806 overwritten in module Compat at /home/james/.julia/v0.4/Compat/src/Compat.jl:806.\n",
      "WARNING: Method definition precision(Type{Main.Base.MPFR.BigFloat}) in module Compat at /home/james/.julia/v0.4/Compat/src/Compat.jl:851 overwritten in module Compat at /home/james/.julia/v0.4/Compat/src/Compat.jl:851.\n",
      "WARNING: Method definition remotecall(Function, Main.Base.LocalProcess, Any...) in module Compat at /home/james/.julia/v0.4/Compat/src/Compat.jl:741 overwritten in module Compat at /home/james/.julia/v0.4/Compat/src/Compat.jl:741.\n",
      "WARNING: Method definition remotecall(Function, Main.Base.Worker, Any...) in module Compat at /home/james/.julia/v0.4/Compat/src/Compat.jl:742 overwritten in module Compat at /home/james/.julia/v0.4/Compat/src/Compat.jl:742.\n",
      "WARNING: Method definition remotecall(Function, Integer, Any...) in module Compat at /home/james/.julia/v0.4/Compat/src/Compat.jl:743 overwritten in module Compat at /home/james/.julia/v0.4/Compat/src/Compat.jl:743.\n",
      "WARNING: Method definition remote_do(Function, Main.Base.LocalProcess, Any...) in module Compat at /home/james/.julia/v0.4/Compat/src/Compat.jl:741 overwritten in module Compat at /home/james/.julia/v0.4/Compat/src/Compat.jl:741.\n",
      "WARNING: Method definition remote_do(Function, Main.Base.Worker, Any...) in module Compat at /home/james/.julia/v0.4/Compat/src/Compat.jl:742 overwritten in module Compat at /home/james/.julia/v0.4/Compat/src/Compat.jl:742.\n",
      "WARNING: Method definition remote_do(Function, Integer, Any...) in module Compat at /home/james/.julia/v0.4/Compat/src/Compat.jl:743 overwritten in module Compat at /home/james/.julia/v0.4/Compat/src/Compat.jl:743.\n",
      "WARNING: Method definition readline(AbstractString) in module Compat at /home/james/.julia/v0.4/Compat/src/Compat.jl:808 overwritten in module Compat at /home/james/.julia/v0.4/Compat/src/Compat.jl:808.\n",
      "WARNING: Method definition remotecall_fetch(Function, Main.Base.LocalProcess, Any...) in module Compat at /home/james/.julia/v0.4/Compat/src/Compat.jl:741 overwritten in module Compat at /home/james/.julia/v0.4/Compat/src/Compat.jl:741.\n",
      "WARNING: Method definition remotecall_fetch(Function, Main.Base.Worker, Any...) in module Compat at /home/james/.julia/v0.4/Compat/src/Compat.jl:742 overwritten in module Compat at /home/james/.julia/v0.4/Compat/src/Compat.jl:742.\n",
      "WARNING: Method definition remotecall_fetch(Function, Integer, Any...) in module Compat at /home/james/.julia/v0.4/Compat/src/Compat.jl:743 overwritten in module Compat at /home/james/.julia/v0.4/Compat/src/Compat.jl:743.\n",
      "WARNING: Method definition remotecall_wait(Function, Main.Base.LocalProcess, Any...) in module Compat at /home/james/.julia/v0.4/Compat/src/Compat.jl:741 overwritten in module Compat at /home/james/.julia/v0.4/Compat/src/Compat.jl:741.\n",
      "WARNING: Method definition remotecall_wait(Function, Main.Base.Worker, Any...) in module Compat at /home/james/.julia/v0.4/Compat/src/Compat.jl:742 overwritten in module Compat at /home/james/.julia/v0.4/Compat/src/Compat.jl:742.\n",
      "WARNING: Method definition remotecall_wait(Function, Integer, Any...) in module Compat at /home/james/.julia/v0.4/Compat/src/Compat.jl:743 overwritten in module Compat at /home/james/.julia/v0.4/Compat/src/Compat.jl:743.\n",
      "WARNING: Method definition readavailable(Main.Base.IOStream) in module Compat at /home/james/.julia/v0.4/Compat/src/Compat.jl:810 overwritten in module Compat at /home/james/.julia/v0.4/Compat/src/Compat.jl:810.\n",
      "WARNING: Method definition readavailable(Main.Base.AbstractIOBuffer{Array{UInt8, 1}}) in module Compat at /home/james/.julia/v0.4/Compat/src/Compat.jl:811 overwritten in module Compat at /home/james/.julia/v0.4/Compat/src/Compat.jl:811.\n",
      "WARNING: Method definition readuntil(AbstractString, Any...) in module Compat at /home/james/.julia/v0.4/Compat/src/Compat.jl:807 overwritten in module Compat at /home/james/.julia/v0.4/Compat/src/Compat.jl:807.\n"
     ]
    }
   ],
   "source": [
    "using PyPlot"
   ]
  },
  {
   "cell_type": "code",
   "execution_count": 15,
   "metadata": {
    "collapsed": false
   },
   "outputs": [],
   "source": [
    "x = linspace(1,5,1000);"
   ]
  },
  {
   "cell_type": "code",
   "execution_count": 16,
   "metadata": {
    "collapsed": false
   },
   "outputs": [],
   "source": [
    "y = zeros(Float64, 1000);"
   ]
  },
  {
   "cell_type": "code",
   "execution_count": 17,
   "metadata": {
    "collapsed": false
   },
   "outputs": [],
   "source": [
    "i = 1 \n",
    "for j in x # Se construye el arreglo y con las derivadas simplemente \n",
    "    # iterando sobre el linspace x.\n",
    "    y[i] = f(xdual(j)).der\n",
    "    i = i + 1\n",
    "end"
   ]
  },
  {
   "cell_type": "code",
   "execution_count": 18,
   "metadata": {
    "collapsed": false
   },
   "outputs": [
    {
     "data": {
      "image/png": "[encoded data removed]",
      "text/plain": [
       "PyPlot.Figure(PyObject <matplotlib.figure.Figure object at 0x7fa646b554d0>)"
      ]
     },
     "metadata": {},
     "output_type": "display_data"
    }
   ],
   "source": [
    "fig = figure(\"pyplot\", figsize = (6,4))\n",
    "a = plot(x,y)\n",
    "title(\"Derivada\")\n",
    "xlabel(\"x\")\n",
    "ylabel(\"f'(x)\")\n",
    "xlim(1,5)\n",
    "show()"
   ]
  },
  {
   "cell_type": "markdown",
   "metadata": {},
   "source": [
    "# Ejercicio\n",
    "\n",
    "Implementen el método de Newton para una función arbitraria $f(x)$ en una variable (la función `newton1D` debe tener un argumento que es una función) a fin de encontrar un cero de la función, i.e., $f(x^*)=0$. El método de Newton requiere la derivada evaluada en diversos puntos, cosa que obtendrán usando el módulo de derivación automática.\n",
    "\n",
    "- Obtengan, usando su función del método de Newton, las raices del polinomio de Wilkinson $W_{6}(x)$, usando como iterados iniciales $x_0=2.2$ y $x_0=2.45$.\n",
    "    \n",
    "- Hagan lo mismo que en el inciso anterior para $g(x) = x \\sin(2x)$, con $x_0=0.7$."
   ]
  },
  {
   "cell_type": "markdown",
   "metadata": {},
   "source": [
    "Se define el polinomio de Wilkinson:"
   ]
  },
  {
   "cell_type": "code",
   "execution_count": 19,
   "metadata": {
    "collapsed": false
   },
   "outputs": [
    {
     "data": {
      "text/plain": [
       "W6 (generic function with 1 method)"
      ]
     },
     "execution_count": 19,
     "metadata": {},
     "output_type": "execute_result"
    }
   ],
   "source": [
    "W6(x) = (x-1)*(x-2)*(x-3)*(x-4)*(x-5)*(x-6)"
   ]
  },
  {
   "cell_type": "markdown",
   "metadata": {},
   "source": [
    "Su derivada seríá simplemente:"
   ]
  },
  {
   "cell_type": "code",
   "execution_count": 20,
   "metadata": {
    "collapsed": false
   },
   "outputs": [
    {
     "data": {
      "text/plain": [
       "dW6 (generic function with 1 method)"
      ]
     },
     "execution_count": 20,
     "metadata": {},
     "output_type": "execute_result"
    }
   ],
   "source": [
    "dW6(x) = W6(xdual(x)).der"
   ]
  },
  {
   "cell_type": "markdown",
   "metadata": {},
   "source": [
    "La función `compute_roots` calcula las raíces de una función utilizando veinte iteraciones del método de Newton."
   ]
  },
  {
   "cell_type": "code",
   "execution_count": 21,
   "metadata": {
    "collapsed": false
   },
   "outputs": [
    {
     "data": {
      "text/plain": [
       "compute_roots (generic function with 1 method)"
      ]
     },
     "execution_count": 21,
     "metadata": {},
     "output_type": "execute_result"
    }
   ],
   "source": [
    "function compute_roots(f::Function, df::Function,x::Real)\n",
    "    # 20 iterations of Newton's method\n",
    "    for i in 1:20\n",
    "        x = x - f(x) / df(x)\n",
    "    end\n",
    "    return x\n",
    "end"
   ]
  },
  {
   "cell_type": "markdown",
   "metadata": {},
   "source": [
    "Así, la raíz del polinomio con $x_0 = 2.2$ es:"
   ]
  },
  {
   "cell_type": "code",
   "execution_count": 22,
   "metadata": {
    "collapsed": false
   },
   "outputs": [
    {
     "data": {
      "text/plain": [
       "2.0"
      ]
     },
     "execution_count": 22,
     "metadata": {},
     "output_type": "execute_result"
    }
   ],
   "source": [
    "compute_roots(W6, dW6, 2.2)"
   ]
  },
  {
   "cell_type": "markdown",
   "metadata": {},
   "source": [
    "En cambio, con $x_0 =2.45$ es:"
   ]
  },
  {
   "cell_type": "code",
   "execution_count": 23,
   "metadata": {
    "collapsed": false
   },
   "outputs": [
    {
     "data": {
      "text/plain": [
       "6.0"
      ]
     },
     "execution_count": 23,
     "metadata": {},
     "output_type": "execute_result"
    }
   ],
   "source": [
    "compute_roots(W6, dW6, 2.45)"
   ]
  },
  {
   "cell_type": "markdown",
   "metadata": {},
   "source": [
    "La raíz de $x \\sin(2x)$ con $x_0 =0.7$ es prácticamente un cero:"
   ]
  },
  {
   "cell_type": "code",
   "execution_count": 24,
   "metadata": {
    "collapsed": false
   },
   "outputs": [
    {
     "data": {
      "text/plain": [
       "2.5539099419345546e-7"
      ]
     },
     "execution_count": 24,
     "metadata": {},
     "output_type": "execute_result"
    }
   ],
   "source": [
    "compute_roots(x -> x*sin(2*x), x-> (xdual(x)*sin(2*xdual(x))).der, 0.7)"
   ]
  },
  {
   "cell_type": "markdown",
   "metadata": {},
   "source": [
    "Graficamos esta función:"
   ]
  },
  {
   "cell_type": "code",
   "execution_count": 34,
   "metadata": {
    "collapsed": false
   },
   "outputs": [
    {
     "data": {
      "image/png": "[encoded data removed]",
      "text/plain": [
       "PyPlot.Figure(PyObject <matplotlib.figure.Figure object at 0x7fa6442cf290>)"
      ]
     },
     "metadata": {},
     "output_type": "display_data"
    },
    {
     "data": {
      "text/plain": [
       "1-element Array{Any,1}:\n",
       " PyObject <matplotlib.lines.Line2D object at 0x7fa6442a1090>"
      ]
     },
     "execution_count": 34,
     "metadata": {},
     "output_type": "execute_result"
    }
   ],
   "source": [
    "figure()\n",
    "x = linspace(-2,2,100)\n",
    "xlabel(\"x\")\n",
    "ylabel(\"f(x)\")\n",
    "b = plot(x,x.*sin(2x))"
   ]
  },
  {
   "cell_type": "markdown",
   "metadata": {},
   "source": [
    "Se ve que hay una raíz cercana a $x_0 = 1.5$:"
   ]
  },
  {
   "cell_type": "code",
   "execution_count": 26,
   "metadata": {
    "collapsed": false
   },
   "outputs": [
    {
     "data": {
      "text/plain": [
       "1.5707963267948966"
      ]
     },
     "execution_count": 26,
     "metadata": {},
     "output_type": "execute_result"
    }
   ],
   "source": [
    "compute_roots(x -> x*sin(2*x), x-> (xdual(x)*sin(2*xdual(x))).der, 1.5)"
   ]
  },
  {
   "cell_type": "markdown",
   "metadata": {},
   "source": [
    "# Pregunta\n",
    "\n",
    "¿Qué hacer si se requieren derivadas de orden superior, es decir, la segunda, tercera, etc, derivada? Argumenten.\n",
    "\n",
    "**NOTA:** Esta pregunta debe ser contestada pero **no** será considerada para aceptar la tarea; la idea es empezar a pensar en esto."
   ]
  },
  {
   "cell_type": "markdown",
   "metadata": {},
   "source": [
    "Lo que uno pensaría inicialmente es que sí se puede hacer sencillamente. Ponemos la función $f(x) = x^2$:"
   ]
  },
  {
   "cell_type": "code",
   "execution_count": 27,
   "metadata": {
    "collapsed": false
   },
   "outputs": [
    {
     "data": {
      "text/plain": [
       "Function"
      ]
     },
     "execution_count": 27,
     "metadata": {},
     "output_type": "execute_result"
    }
   ],
   "source": [
    "f(x) = x^2\n",
    "typeof(f)"
   ]
  },
  {
   "cell_type": "markdown",
   "metadata": {},
   "source": [
    "Por ejemplo:"
   ]
  },
  {
   "cell_type": "code",
   "execution_count": 28,
   "metadata": {
    "collapsed": false
   },
   "outputs": [
    {
     "data": {
      "text/plain": [
       "4"
      ]
     },
     "execution_count": 28,
     "metadata": {},
     "output_type": "execute_result"
    }
   ],
   "source": [
    "f(2)"
   ]
  },
  {
   "cell_type": "markdown",
   "metadata": {},
   "source": [
    "Ahora, su derivada la podemos definir como lo hicimos en los ejercicios anteriores:"
   ]
  },
  {
   "cell_type": "code",
   "execution_count": 29,
   "metadata": {
    "collapsed": false
   },
   "outputs": [
    {
     "data": {
      "text/plain": [
       "Function"
      ]
     },
     "execution_count": 29,
     "metadata": {},
     "output_type": "execute_result"
    }
   ],
   "source": [
    "df(x) = f(xdual(x)).der; typeof(df)"
   ]
  },
  {
   "cell_type": "markdown",
   "metadata": {},
   "source": [
    "Y se ve claro que  la derivada calcula bien:"
   ]
  },
  {
   "cell_type": "code",
   "execution_count": 30,
   "metadata": {
    "collapsed": false
   },
   "outputs": [
    {
     "data": {
      "text/plain": [
       "4"
      ]
     },
     "execution_count": 30,
     "metadata": {},
     "output_type": "execute_result"
    }
   ],
   "source": [
    "df(2)"
   ]
  },
  {
   "cell_type": "markdown",
   "metadata": {},
   "source": [
    "Ahora queremos definir la segunda derivada de la manera análoga:"
   ]
  },
  {
   "cell_type": "code",
   "execution_count": 31,
   "metadata": {
    "collapsed": false
   },
   "outputs": [
    {
     "data": {
      "text/plain": [
       "ddf (generic function with 1 method)"
      ]
     },
     "execution_count": 31,
     "metadata": {},
     "output_type": "execute_result"
    }
   ],
   "source": [
    "ddf(x) = df(xdual(x)).der"
   ]
  },
  {
   "cell_type": "markdown",
   "metadata": {},
   "source": [
    "Pero no funciona:"
   ]
  },
  {
   "cell_type": "code",
   "execution_count": 32,
   "metadata": {
    "collapsed": false
   },
   "outputs": [
    {
     "ename": "LoadError",
     "evalue": "LoadError: StackOverflowError:\nwhile loading In[32], in expression starting on line 1",
     "output_type": "error",
     "traceback": [
      "LoadError: StackOverflowError:\nwhile loading In[32], in expression starting on line 1",
      "",
      " in call at /home/james/Documents/2016-2_TSFisicaComputacional/tareas/Santiago/AutomDiff.jl:21 (repeats 513 times)"
     ]
    }
   ],
   "source": [
    "ddf(2)"
   ]
  },
  {
   "cell_type": "markdown",
   "metadata": {},
   "source": [
    "Específicamente no funciona ni siquiera la estrucutra de la dual:"
   ]
  },
  {
   "cell_type": "code",
   "execution_count": 33,
   "metadata": {
    "collapsed": false
   },
   "outputs": [
    {
     "ename": "LoadError",
     "evalue": "LoadError: StackOverflowError:\nwhile loading In[33], in expression starting on line 1",
     "output_type": "error",
     "traceback": [
      "LoadError: StackOverflowError:\nwhile loading In[33], in expression starting on line 1",
      "",
      " in call at /home/james/Documents/2016-2_TSFisicaComputacional/tareas/Santiago/AutomDiff.jl:21 (repeats 513 times)"
     ]
    }
   ],
   "source": [
    "df(xdual(2.))"
   ]
  },
  {
   "cell_type": "markdown",
   "metadata": {},
   "source": [
    "Lo que está sucediendo es que el álgebra que definimos para los duales no se puede aplicar para sacar duales de la derivada porque esta derivada no tiene una estructura algebraica. Es decir, por haber extraído la derivada de la primera dual no nos traemos la estructura algebraica de la derivada. Lo que quiere decir es que df(x) aunque tiene los valores de $2x$ no tiene la estructura algebraica para poder meterla en otra dual y sacarle su derivada."
   ]
  }
 ],
 "metadata": {
  "kernelspec": {
   "display_name": "Julia 0.4.2",
   "language": "julia",
   "name": "julia-0.4"
  },
  "language_info": {
   "file_extension": ".jl",
   "mimetype": "application/julia",
   "name": "julia",
   "version": "0.4.2"
  }
 },
 "nbformat": 4,
 "nbformat_minor": 0
}
