{
 "cells": [
  {
   "cell_type": "markdown",
   "metadata": {},
   "source": [
    "Primero definamos nuestra función, la cual debe ser typestable() y debe solver una ecuación de segundo orden."
   ]
  },
  {
   "cell_type": "code",
   "execution_count": 2,
   "metadata": {
    "collapsed": false
   },
   "outputs": [
    {
     "data": {
      "text/plain": [
       "quadratic_solve (generic function with 1 method)"
      ]
     },
     "execution_count": 2,
     "metadata": {},
     "output_type": "execute_result"
    }
   ],
   "source": [
    "\"\"\"\n",
    "**quadratic_solve(a,b,c)** es una función que resuelve ecuaciones de segundo orden de la forma:  ax² + bx + c = 0 con los coeficientes \n",
    "(a,b,c) reales. Las raíces de la ecuación se presentan en forma de una tupla de números complejos junto con un mensaje de texto \n",
    "que le avisa al usuario si se tiene una única solución, dos raíces reales o dos raíces con parte imaginaria. \n",
    "\n",
    "Si no hay solución para la ecuación introducida se regresa una tupla con valores complejos NaN+im*NaN.\n",
    "\"\"\"\n",
    "\n",
    "function quadratic_solve(a,b,c)\n",
    "    \n",
    "    #Definimos la parte real e imaginaria de las raices para una ecuación de segundo orden con coeficientes reales\n",
    "    #Aprovechamos cómo está definida la funcion sqrt(x) en Julia para que sólo acepte números reales para (a,b,c). \n",
    "    #Si se introduce otro valor marcará que el método no está definido. \n",
    "    x1 = real((-b+sqrt(complex(b^2-4*a*c)))/(2*a))\n",
    "    y1 = imag((-b+sqrt(complex(b^2-4*a*c)))/(2*a))\n",
    "    x2 = real((-b-sqrt(complex(b^2-4*a*c)))/(2*a))\n",
    "    y2 = imag((-b-sqrt(complex(b^2-4*a*c)))/(2*a))\n",
    "    \n",
    "    #Consideramos los casos triviales en el que el usuario introduce una ecuación lineal o valores que no determinan una ecuación\n",
    "    if (a == 0 && b != 0)\n",
    "        println(\"La ecuación es de primer orden y su solución es\")\n",
    "        return(complex(real(-c/b),imag(-c/b)),complex(NaN,NaN))\n",
    "    \n",
    "    elseif (a == 0 && b == 0)\n",
    "        println(\"Los valores introducidos no representan una ecuación\")\n",
    "        return(complex(NaN,NaN),complex(NaN,NaN))\n",
    "\n",
    "    #Imprimimos en pantalla si las raíces son reales o complejas, y si es única. \n",
    "    else\n",
    "        if b^2-4*a*c == 0\n",
    "            println(\"Sólo hay una raíz, se presenta dos veces\")\n",
    "        end\n",
    "    \n",
    "        if b^2-4*a*c > 0\n",
    "            println(\"Las raíces son reales\")\n",
    "        end\n",
    "\n",
    "        if b^2-4*a*c < 0\n",
    "            println(\"Las raíces son complejas\")\n",
    "        end\n",
    "        \n",
    "    #Regresamos el valor de las raices en forma compleja\n",
    "        return(complex(x1,y1),complex(x2,y2))\n",
    "    end\n",
    "    \n",
    "end"
   ]
  },
  {
   "cell_type": "markdown",
   "metadata": {},
   "source": [
    "Revisemos que efectivamente nuestra función tiene documentación"
   ]
  },
  {
   "cell_type": "code",
   "execution_count": 3,
   "metadata": {
    "collapsed": false
   },
   "outputs": [
    {
     "name": "stdout",
     "output_type": "stream",
     "text": [
      "search: "
     ]
    },
    {
     "data": {
      "text/latex": [
       "\\textbf{quadratic\\_solve(a,b,c)} es una función que resuelve ecuaciones de segundo orden de la forma:  ax² + bx + c = 0 con los coeficientes  (a,b,c) reales. Las raíces de la ecuación se presentan en forma de una tupla de números complejos junto con un mensaje de texto  que le avisa al usuario si se tiene una única solución, dos raíces reales o dos raíces con parte imaginaria. \n",
       "Si no hay solución para la ecuación introducida se regresa una tupla con valores complejos NaN+im*NaN.\n"
      ],
      "text/markdown": [
       "**quadratic_solve(a,b,c)** es una función que resuelve ecuaciones de segundo orden de la forma:  ax² + bx + c = 0 con los coeficientes  (a,b,c) reales. Las raíces de la ecuación se presentan en forma de una tupla de números complejos junto con un mensaje de texto  que le avisa al usuario si se tiene una única solución, dos raíces reales o dos raíces con parte imaginaria. \n",
       "\n",
       "Si no hay solución para la ecuación introducida se regresa una tupla con valores complejos NaN+im*NaN.\n"
      ],
      "text/plain": [
       "**quadratic_solve(a,b,c)** es una función que resuelve ecuaciones de segundo orden de la forma:  ax² + bx + c = 0 con los coeficientes  (a,b,c) reales. Las raíces de la ecuación se presentan en forma de una tupla de números complejos junto con un mensaje de texto  que le avisa al usuario si se tiene una única solución, dos raíces reales o dos raíces con parte imaginaria. \n",
       "\n",
       "Si no hay solución para la ecuación introducida se regresa una tupla con valores complejos NaN+im*NaN.\n"
      ]
     },
     "execution_count": 3,
     "metadata": {},
     "output_type": "execute_result"
    }
   ],
   "source": [
    "? quadratic_solve"
   ]
  },
  {
   "cell_type": "markdown",
   "metadata": {},
   "source": [
    "Veamos que funcione como queremos, es decir que sí tome en cuenta los casos triviales, y el valor del discriminante para determinar el número de raíces. Comenzemos con el caso en el que se equivoca el usuario."
   ]
  },
  {
   "cell_type": "code",
   "execution_count": 4,
   "metadata": {
    "collapsed": false
   },
   "outputs": [
    {
     "name": "stdout",
     "output_type": "stream",
     "text": [
      "quadratic_solve\n",
      "\n"
     ]
    },
    {
     "ename": "LoadError",
     "evalue": "LoadError: MethodError: `*` has no method matching *(::Int64, ::Char)\nClosest candidates are:\n  *(::Any, ::Any, !Matched::Any, !Matched::Any...)\n  *(::Real, !Matched::Complex{Bool})\n  *(::Real, !Matched::Complex{T<:Real})\n  ...\nwhile loading In[4], in expression starting on line 1",
     "output_type": "error",
     "traceback": [
      "LoadError: MethodError: `*` has no method matching *(::Int64, ::Char)\nClosest candidates are:\n  *(::Any, ::Any, !Matched::Any, !Matched::Any...)\n  *(::Real, !Matched::Complex{Bool})\n  *(::Real, !Matched::Complex{T<:Real})\n  ...\nwhile loading In[4], in expression starting on line 1",
      ""
     ]
    }
   ],
   "source": [
    "quadratic_solve(1,2,'p')"
   ]
  },
  {
   "cell_type": "markdown",
   "metadata": {},
   "source": [
    "Como se puede ver la función marca que no hay un método definido si uno de los coeficientes no es un número real.  \n",
    "Continuemos con las pruebas:"
   ]
  },
  {
   "cell_type": "code",
   "execution_count": 5,
   "metadata": {
    "collapsed": false
   },
   "outputs": [
    {
     "name": "stdout",
     "output_type": "stream",
     "text": [
      "Los valores introducidos no representan una ecuación\n"
     ]
    },
    {
     "data": {
      "text/plain": [
       "(NaN + NaN*im,NaN + NaN*im)"
      ]
     },
     "execution_count": 5,
     "metadata": {},
     "output_type": "execute_result"
    }
   ],
   "source": [
    "quadratic_solve(0,0,5)"
   ]
  },
  {
   "cell_type": "code",
   "execution_count": 6,
   "metadata": {
    "collapsed": false
   },
   "outputs": [
    {
     "data": {
      "text/plain": [
       "Tuple{Complex{Float64},Complex{Float64}}"
      ]
     },
     "execution_count": 6,
     "metadata": {},
     "output_type": "execute_result"
    }
   ],
   "source": [
    "typeof(ans)"
   ]
  },
  {
   "cell_type": "code",
   "execution_count": 7,
   "metadata": {
    "collapsed": false
   },
   "outputs": [
    {
     "name": "stdout",
     "output_type": "stream",
     "text": [
      "La ecuación es de primer orden y su solución es\n"
     ]
    },
    {
     "data": {
      "text/plain": [
       "(-0.5 + 0.0im,NaN + NaN*im)"
      ]
     },
     "execution_count": 7,
     "metadata": {},
     "output_type": "execute_result"
    }
   ],
   "source": [
    "quadratic_solve(0,2,1)"
   ]
  },
  {
   "cell_type": "code",
   "execution_count": 8,
   "metadata": {
    "collapsed": false
   },
   "outputs": [
    {
     "data": {
      "text/plain": [
       "Tuple{Complex{Float64},Complex{Float64}}"
      ]
     },
     "execution_count": 8,
     "metadata": {},
     "output_type": "execute_result"
    }
   ],
   "source": [
    "typeof(ans)"
   ]
  },
  {
   "cell_type": "code",
   "execution_count": 9,
   "metadata": {
    "collapsed": false
   },
   "outputs": [
    {
     "data": {
      "text/plain": [
       "(0.8284271247461903 + 0.0im,-4.82842712474619 - 0.0im)"
      ]
     },
     "execution_count": 9,
     "metadata": {},
     "output_type": "execute_result"
    }
   ],
   "source": [
    "quadratic_solve(1//2,2.0,-2)"
   ]
  },
  {
   "cell_type": "code",
   "execution_count": 10,
   "metadata": {
    "collapsed": false
   },
   "outputs": [
    {
     "data": {
      "text/plain": [
       "Tuple{Complex{Float64},Complex{Float64}}"
      ]
     },
     "execution_count": 10,
     "metadata": {},
     "output_type": "execute_result"
    }
   ],
   "source": [
    "typeof(ans)"
   ]
  },
  {
   "cell_type": "code",
   "execution_count": 11,
   "metadata": {
    "collapsed": false
   },
   "outputs": [
    {
     "name": "stdout",
     "output_type": "stream",
     "text": [
      "Las raíces son reales\n",
      "Las raíces son complejas\n"
     ]
    },
    {
     "data": {
      "text/plain": [
       "(-0.5 + 0.8660254037844386im,-0.5 - 0.8660254037844386im)"
      ]
     },
     "execution_count": 11,
     "metadata": {},
     "output_type": "execute_result"
    }
   ],
   "source": [
    "quadratic_solve(1.0,1,1)"
   ]
  },
  {
   "cell_type": "code",
   "execution_count": 12,
   "metadata": {
    "collapsed": false
   },
   "outputs": [
    {
     "data": {
      "text/plain": [
       "(3.0 + 0.0im,3.0 - 0.0im)"
      ]
     },
     "execution_count": 12,
     "metadata": {},
     "output_type": "execute_result"
    }
   ],
   "source": [
    "quadratic_solve(1,-6.0,9)"
   ]
  },
  {
   "cell_type": "markdown",
   "metadata": {},
   "source": [
    "Como se puede ver sin inmportar qué tipo de número introduzcamos siempre nos regresa una tupla de dos complejos flaot64. Sin embargo también podemos introducir valores Big, ya que la función sqrt(x) en Julia lo permite."
   ]
  },
  {
   "cell_type": "code",
   "execution_count": 17,
   "metadata": {
    "collapsed": false
   },
   "outputs": [
    {
     "name": "stdout",
     "output_type": "stream",
     "text": [
      "Las raíces son complejas\n"
     ]
    },
    {
     "data": {
      "text/plain": [
       "(-5.000000000000000000000000000000000000000000000000000000000000000000000000000000e-01 + 8.660254037844386467637231707529361834714026269051903140279034897259665084543988e-01im,-5.000000000000000000000000000000000000000000000000000000000000000000000000000000e-01 - 8.660254037844386467637231707529361834714026269051903140279034897259665084543988e-01im)"
      ]
     },
     "execution_count": 17,
     "metadata": {},
     "output_type": "execute_result"
    }
   ],
   "source": [
    "quadratic_solve(1,BigFloat(1),1)"
   ]
  },
  {
   "cell_type": "code",
   "execution_count": 14,
   "metadata": {
    "collapsed": false
   },
   "outputs": [
    {
     "data": {
      "text/plain": [
       "Tuple{Complex{BigFloat},Complex{BigFloat}}"
      ]
     },
     "execution_count": 14,
     "metadata": {},
     "output_type": "execute_result"
    }
   ],
   "source": [
    "typeof(ans)"
   ]
  },
  {
   "cell_type": "markdown",
   "metadata": {},
   "source": [
    "Para obtener solo la parte real o imaginaria de las raíces se debe utilizar notación para tuplas, con i=1,2 dependiendo de cual raíz se necesita y la función real(x) o imag(x). Por ejemplo:"
   ]
  },
  {
   "cell_type": "code",
   "execution_count": 15,
   "metadata": {
    "collapsed": false
   },
   "outputs": [
    {
     "name": "stdout",
     "output_type": "stream",
     "text": [
      "Las raíces son reales\n"
     ]
    },
    {
     "data": {
      "text/plain": [
       "(1.0 + 0.0im,-1.0 - 0.0im)"
      ]
     },
     "execution_count": 15,
     "metadata": {},
     "output_type": "execute_result"
    }
   ],
   "source": [
    "quadratic_solve(5,0,-5)"
   ]
  },
  {
   "cell_type": "code",
   "execution_count": 16,
   "metadata": {
    "collapsed": false
   },
   "outputs": [
    {
     "data": {
      "text/plain": [
       "-1.0"
      ]
     },
     "execution_count": 16,
     "metadata": {},
     "output_type": "execute_result"
    }
   ],
   "source": [
    "real(ans[2])"
   ]
  },
  {
   "cell_type": "markdown",
   "metadata": {
    "collapsed": true
   },
   "source": [
    "Los recursos consultados fueron los siguientes:  \n",
    "    https://docs.julialang.org/en/release-0.4/manual/functions/  \n",
    "    https://docs.julialang.org/en/release-0.4/manual/complex-and-rational-numbers/  \n",
    "    https://docs.julialang.org/en/release-0.4/manual/documentation/  "
   ]
  }
 ],
 "metadata": {
  "kernelspec": {
   "display_name": "Julia 0.4.2",
   "language": "julia",
   "name": "julia-0.4"
  },
  "language_info": {
   "file_extension": ".jl",
   "mimetype": "application/julia",
   "name": "julia",
   "version": "0.4.2"
  }
 },
 "nbformat": 4,
 "nbformat_minor": 0
}
