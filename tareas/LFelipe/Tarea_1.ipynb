{
 "cells": [
  {
   "cell_type": "markdown",
   "metadata": {},
   "source": [
    "**Tarea 1**\n",
    "\n",
    "Implementen en julia una función que devuelva las raíces de una ecuación de segundo grado general con coeficientes reales. La función debe ser estable según el tipo (type-stable), lo que significa que el tipo del resultado sólamente depende del tipo de las entradas. Muestren en el notebook con algunos ejemplos (escogidos de manera adecuada) que la función implementada da resultados correctos.\n",
    "\n",
    "La función debe estar documentada de manera apropiada, lo que significa que, al correr el Jupyter notebook y desde ahí, tecleando\n",
    "\n",
    "? nombre_funcion\n",
    "\n",
    "seguido de\n",
    "\n",
    "Cualquier comentario que ayude a entender su razonamiento lo pueden incluir en el notebook, explotando Markdown.\n",
    "\n",
    "**NOTA** El máximo número de colaboradores es 2, cuyos nombres deben ser incluidos con claridad. Si usan ideas de cualquier fuente, favor de incluir la referencia apropiada."
   ]
  },
  {
   "cell_type": "markdown",
   "metadata": {},
   "source": [
    "##  Solución "
   ]
  },
  {
   "cell_type": "markdown",
   "metadata": {},
   "source": [
    "Una ecuación de segundo grado tiene la forma general de \n",
    "\n",
    "$$ a x^2 + b x + c = 0$$\n",
    "\n",
    "con $a,b,c \\in \\mathbb{R}$ cuyas raíces se obtienen con la conocida expresión\n",
    "\n",
    "$$ x = \\frac{-b \\pm \\sqrt{b^2 - 4ac}}{2a} $$\n",
    "\n",
    "Dada la naturaleza de la fórmula las raíces pueden ser reales o  complejos. Es fácil ver que tipo de raíz será por el signo del discriminante\n",
    "\n",
    "$$ k = b^2 - 4ac$$\n",
    "\n",
    "entonces si $k < 0$ las raíces serán complejas y si $k > 0$ las raíces serán reales."
   ]
  },
  {
   "cell_type": "markdown",
   "metadata": {},
   "source": [
    "Para implementar la función `cuadratica` que resuelve la ecuación de segundo grado dados los coeficientes de la misma, utilizamos la expresión antes dada, pero para hacer que la función sea *type-stable* primero convertimos los valores de los coeficientes ingresados a tipo `Complex{Float64}` que es el tipo de resultado mas general que podríamos obtener, de esta manera, independientemente de los valores ingresados a la función lo que regresara será una resultado tipo `Tuple{Complex{Float64},Complex{Float64}}`."
   ]
  },
  {
   "cell_type": "code",
   "execution_count": 1,
   "metadata": {
    "collapsed": false
   },
   "outputs": [
    {
     "data": {
      "text/plain": [
       "cuadratica (generic function with 1 method)"
      ]
     },
     "execution_count": 1,
     "metadata": {},
     "output_type": "execute_result"
    }
   ],
   "source": [
    "function cuadratica(a,b,c)\n",
    "    \n",
    "    if (typeof(a) <: Number) == false | (typeof(a) <: Number) == false | (typeof(a) <: Number) == false\n",
    "        \n",
    "        error(\"Los argumentos necesitan ser algún subtipo de `Number`\")\n",
    "        \n",
    "    end\n",
    "    \n",
    "    a = Complex{Float64}(a)\n",
    "    b = Complex{Float64}(b)\n",
    "    c = Complex{Float64}(c)\n",
    "    \n",
    "    k = b^2 - 4*a*c\n",
    "\n",
    "    x₁ = (-b + sqrt(k))/2a\n",
    "    x₂ = (-b - sqrt(k))/2a\n",
    "    \n",
    "    return x₁, x₂\n",
    "\n",
    "end"
   ]
  },
  {
   "cell_type": "markdown",
   "metadata": {},
   "source": [
    "Ahora hacemos varias pruebas para ciertos coeficientes"
   ]
  },
  {
   "cell_type": "code",
   "execution_count": 2,
   "metadata": {
    "collapsed": false
   },
   "outputs": [
    {
     "name": "stdout",
     "output_type": "stream",
     "text": [
      "x₁ = -0.3870967741935484 + 0.2333605850990398im\n",
      "x₂ = -0.3870967741935484 - 0.2333605850990398im\n",
      "ax₁² + bx₁ + c = 0.0 + 0.0im\n",
      "ax₂² + bx₂ + c = 0.0 + 0.0im\n"
     ]
    }
   ],
   "source": [
    "a = 9.3\n",
    "b = 7.2\n",
    "c = 1.9\n",
    "\n",
    "x₁, x₂ = cuadratica(a,b,c)\n",
    "\n",
    "r₁, r₂ = a*x₁^2 + b*x₁ + c,a*x₂^2 + b*x₂ + c\n",
    "\n",
    "println(\"x₁ = $x₁\")\n",
    "println(\"x₂ = $x₂\")\n",
    "println(\"ax₁² + bx₁ + c = $r₁\")\n",
    "println(\"ax₂² + bx₂ + c = $r₂\")"
   ]
  },
  {
   "cell_type": "code",
   "execution_count": 3,
   "metadata": {
    "collapsed": false
   },
   "outputs": [
    {
     "name": "stdout",
     "output_type": "stream",
     "text": [
      "x₁ = -0.4558823529411765 + 0.7160722837611677im\n",
      "x₂ = -0.4558823529411765 - 0.7160722837611677im\n",
      "ax₁² + bx₁ + c = 0.0 + 0.0im\n",
      "ax₂² + bx₂ + c = 0.0 + 0.0im\n"
     ]
    }
   ],
   "source": [
    "a = 6.8\n",
    "b = 6.2\n",
    "c = 4.9\n",
    "\n",
    "x₁, x₂ = cuadratica(a,b,c)\n",
    "\n",
    "r₁, r₂ = a*x₁^2 + b*x₁ + c,a*x₂^2 + b*x₂ + c\n",
    "\n",
    "println(\"x₁ = $x₁\")\n",
    "println(\"x₂ = $x₂\")\n",
    "println(\"ax₁² + bx₁ + c = $r₁\")\n",
    "println(\"ax₂² + bx₂ + c = $r₂\")"
   ]
  },
  {
   "cell_type": "code",
   "execution_count": 4,
   "metadata": {
    "collapsed": false
   },
   "outputs": [
    {
     "name": "stdout",
     "output_type": "stream",
     "text": [
      "x₁ = -0.3425925925925926 + 1.119375131879861im\n",
      "x₂ = -0.3425925925925926 - 1.119375131879861im\n",
      "ax₁² + bx₁ + c = 0.0 + 0.0im\n",
      "ax₂² + bx₂ + c = 0.0 + 0.0im\n"
     ]
    }
   ],
   "source": [
    "a = 5.4\n",
    "b = 3.7\n",
    "c = 7.4\n",
    "\n",
    "x₁, x₂ = cuadratica(a,b,c)\n",
    "\n",
    "r₁, r₂ = a*x₁^2 + b*x₁ + c,a*x₂^2 + b*x₂ + c\n",
    "\n",
    "println(\"x₁ = $x₁\")\n",
    "println(\"x₂ = $x₂\")\n",
    "println(\"ax₁² + bx₁ + c = $r₁\")\n",
    "println(\"ax₂² + bx₂ + c = $r₂\")"
   ]
  },
  {
   "cell_type": "code",
   "execution_count": 5,
   "metadata": {
    "collapsed": false
   },
   "outputs": [
    {
     "name": "stdout",
     "output_type": "stream",
     "text": [
      "x₁ = -1.0 + 1.224744871391589im\n",
      "x₂ = -1.0 - 1.224744871391589im\n",
      "ax₁² + bx₁ + c = 0.0 + 0.0im\n",
      "ax₂² + bx₂ + c = 0.0 + 0.0im\n"
     ]
    }
   ],
   "source": [
    "a = 2\n",
    "b = 4\n",
    "c = 5\n",
    "\n",
    "x₁, x₂ = cuadratica(a,b,c)\n",
    "\n",
    "r₁, r₂ = a*x₁^2 + b*x₁ + c,a*x₂^2 + b*x₂ + c\n",
    "\n",
    "println(\"x₁ = $x₁\")\n",
    "println(\"x₂ = $x₂\")\n",
    "println(\"ax₁² + bx₁ + c = $r₁\")\n",
    "println(\"ax₂² + bx₂ + c = $r₂\")"
   ]
  },
  {
   "cell_type": "code",
   "execution_count": 6,
   "metadata": {
    "collapsed": false
   },
   "outputs": [
    {
     "ename": "LoadError",
     "evalue": "LoadError: Los argumentos necesitan ser algún subtipo de `Number`\nwhile loading In[6], in expression starting on line 1",
     "output_type": "error",
     "traceback": [
      "LoadError: Los argumentos necesitan ser algún subtipo de `Number`\nwhile loading In[6], in expression starting on line 1",
      "",
      " in cuadratica at In[1]:5"
     ]
    }
   ],
   "source": [
    "cuadratica('a',3,2.4) "
   ]
  }
 ],
 "metadata": {
  "kernelspec": {
   "display_name": "Julia 0.4.3",
   "language": "julia",
   "name": "julia-0.4"
  },
  "language_info": {
   "file_extension": ".jl",
   "mimetype": "application/julia",
   "name": "julia",
   "version": "0.4.3"
  }
 },
 "nbformat": 4,
 "nbformat_minor": 0
}
