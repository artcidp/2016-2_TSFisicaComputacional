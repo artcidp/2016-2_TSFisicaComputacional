{
 "cells": [
  {
   "cell_type": "markdown",
   "metadata": {
    "collapsed": true
   },
   "source": [
    "## Solución de ecuaciones cuadráticas"
   ]
  },
  {
   "cell_type": "markdown",
   "metadata": {},
   "source": [
    "Función para resolver ecuaciones cuadráticas donde *a* es el valor del coeficiente del término cuadrático, *b* del término lineal y *c* es la constante."
   ]
  },
  {
   "cell_type": "code",
   "execution_count": 20,
   "metadata": {
    "collapsed": false
   },
   "outputs": [
    {
     "data": {
      "text/plain": [
       "raiz_cuadrática (generic function with 1 method)"
      ]
     },
     "execution_count": 20,
     "metadata": {},
     "output_type": "execute_result"
    }
   ],
   "source": [
    "function raiz_cuadrática(a::Real, b::Real, c::Real)\n",
    "    \n",
    "    #Definimos el discriminante\n",
    "    d = (b^2) - 4(a*c)\n",
    "\n",
    "    #Condiciones\n",
    "    if a == 0.0 \n",
    "        print(\"La ecuación no es cuadrática.\")\n",
    "    end\n",
    "    \n",
    "    if d == 0.0\n",
    "        x1 = x2 = -b/2a\n",
    "    end\n",
    "    \n",
    "    if d > 0\n",
    "        x1 = (-b + sqrt(d))/2a\n",
    "        x2 = (-b - sqrt(d))/2a\n",
    "    end\n",
    "    \n",
    "    if d < 0 \n",
    "        e = sqrt(abs(d)) * im\n",
    "        x1 = (-b + e)/2a\n",
    "        x2 = (-b - e)/2a \n",
    "    end\n",
    "            \n",
    "    return \"Las raíces son x1 = $x1 y x2 = $x2\"\n",
    "    \n",
    "end"
   ]
  },
  {
   "cell_type": "markdown",
   "metadata": {},
   "source": [
    "### Pruebas"
   ]
  },
  {
   "cell_type": "code",
   "execution_count": 11,
   "metadata": {
    "collapsed": false
   },
   "outputs": [
    {
     "data": {
      "text/plain": [
       "\"Las raíces son x1 = -0.5 + 1.3228756555322954im y x2 = -0.5 - 1.3228756555322954im\""
      ]
     },
     "execution_count": 11,
     "metadata": {},
     "output_type": "execute_result"
    }
   ],
   "source": [
    "raiz_cuadrática(1.0, 1.0, 2.0)"
   ]
  },
  {
   "cell_type": "code",
   "execution_count": 12,
   "metadata": {
    "collapsed": false
   },
   "outputs": [
    {
     "name": "stdout",
     "output_type": "stream",
     "text": [
      "La ecuación no tiene solución"
     ]
    },
    {
     "data": {
      "text/plain": [
       "\"Las raíces son x1 = NaN y x2 = -Inf\""
      ]
     },
     "execution_count": 12,
     "metadata": {},
     "output_type": "execute_result"
    }
   ],
   "source": [
    "raiz_cuadrática(0.0, 1.0, 2.0)"
   ]
  },
  {
   "cell_type": "code",
   "execution_count": 13,
   "metadata": {
    "collapsed": false
   },
   "outputs": [
    {
     "data": {
      "text/plain": [
       "\"Las raíces son x1 = -1.0 y x2 = 2.0\""
      ]
     },
     "execution_count": 13,
     "metadata": {},
     "output_type": "execute_result"
    }
   ],
   "source": [
    "raiz_cuadrática(-1.0, 1.0, 2.0)"
   ]
  },
  {
   "cell_type": "code",
   "execution_count": 14,
   "metadata": {
    "collapsed": false
   },
   "outputs": [
    {
     "data": {
      "text/plain": [
       "\"Las raíces son x1 = -1.0 + 1.7320508075688772im y x2 = -1.0 - 1.7320508075688772im\""
      ]
     },
     "execution_count": 14,
     "metadata": {},
     "output_type": "execute_result"
    }
   ],
   "source": [
    "raiz_cuadrática(0.5, 1.0, 2.0)"
   ]
  },
  {
   "cell_type": "code",
   "execution_count": 15,
   "metadata": {
    "collapsed": false
   },
   "outputs": [
    {
     "data": {
      "text/plain": [
       "\"Las raíces son x1 = -1.0 y x2 = -1.0\""
      ]
     },
     "execution_count": 15,
     "metadata": {},
     "output_type": "execute_result"
    }
   ],
   "source": [
    "raiz_cuadrática(1.0, 2.0, 1.0)"
   ]
  },
  {
   "cell_type": "code",
   "execution_count": 17,
   "metadata": {
    "collapsed": false
   },
   "outputs": [
    {
     "ename": "LoadError",
     "evalue": "LoadError: MethodError: `isless` has no method matching isless(::Int64, ::Complex{Float64})\nClosest candidates are:\n  isless(::Real, !Matched::AbstractFloat)\n  isless(::Real, !Matched::Real)\n  isless(::Integer, !Matched::Char)\nwhile loading In[17], in expression starting on line 1",
     "output_type": "error",
     "traceback": [
      "LoadError: MethodError: `isless` has no method matching isless(::Int64, ::Complex{Float64})\nClosest candidates are:\n  isless(::Real, !Matched::AbstractFloat)\n  isless(::Real, !Matched::Real)\n  isless(::Integer, !Matched::Char)\nwhile loading In[17], in expression starting on line 1",
      "",
      " in raiz_cuadrática at In[10]:15"
     ]
    }
   ],
   "source": [
    "raiz_cuadrática(1.0, 1.0, im)"
   ]
  },
  {
   "cell_type": "code",
   "execution_count": null,
   "metadata": {
    "collapsed": true
   },
   "outputs": [],
   "source": []
  }
 ],
 "metadata": {
  "kernelspec": {
   "display_name": "Julia 0.4.3",
   "language": "julia",
   "name": "julia-0.4"
  },
  "language_info": {
   "file_extension": ".jl",
   "mimetype": "application/julia",
   "name": "julia",
   "version": "0.4.3"
  }
 },
 "nbformat": 4,
 "nbformat_minor": 0
}
