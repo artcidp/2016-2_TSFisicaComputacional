{
 "cells": [
  {
   "cell_type": "markdown",
   "metadata": {},
   "source": [
    "# Tarea 1\n",
    "\n",
    "### Daniel Martínez Urrieta\n",
    "\n",
    "Un polinomio de segundo grado está dado en general por la ecuación:\n",
    "\\begin{equation}\n",
    "    ax^2 + bx + c   \\ \\ \\ a, b, c \\in \\mathbb{R}\n",
    "\\end{equation}\n",
    "\n",
    "Para hallar los ceros de ésta ecuación se puede emplear la fórmula general dada por:\n",
    "\\begin{equation}\n",
    "    x = \\frac{-b \\pm \\sqrt{b^2-4ac}}{2a}\n",
    "\\end{equation}\n",
    "\n",
    "Aunque dicha fórmula es válida para coeficientes complejos, nos limitaremos al caso en que los coeficientes $a, b, c \\in \\mathbb{R}$ para ejemplificar sin mayor complicación a una función `type-stable`. Para lograr que la función sea `type-stable` debemos verificar que `a!=0` y que $b^2-4ac \\geq 0$ pues es el único caso en el cual podemos tomar valores reales (de punto flotante).\n",
    "\n",
    "Se implementará la función `quadratic` para encontrar los ceros de un polinomio de segundo grado dados sus coeficientes `a, b, c`."
   ]
  },
  {
   "cell_type": "code",
   "execution_count": 1,
   "metadata": {
    "collapsed": false
   },
   "outputs": [
    {
     "data": {
      "text/plain": [
       "resuelve_cuad (generic function with 1 method)"
      ]
     },
     "execution_count": 1,
     "metadata": {},
     "output_type": "execute_result"
    }
   ],
   "source": [
    "\"\"\"\n",
    "`quadratic(a, b, c)` es una función `type-stable` que resuelve una ecuación de segundo grado con coeficientes \n",
    "reales: donde `a`es el coeficiente cuadrático, `b` el coeficiente lineal y `c` el coeficiente independiente, dado\n",
    "a que el algoritmo emplea la función `sqrt` (que en general devuelve un valor del tipo `Float64` si el argumento de \n",
    "dicha función es un número `Real` se requiere que los argumentos `a`, `b` y `c` sean del tipo `Float64`\n",
    "\"\"\"\n",
    "\n",
    "function quadratic(a::Float64, b::Float64, c::Float64)\n",
    "    a == 0 ? error(\"Tu ecuación no es de segundo grado, revisa los argumentos.\") :\n",
    "    disc = b^2 - 4*a*c #Calculamos el valor del discriminante\n",
    "    disc < 0 ? error(\"La ecuación tiene soluciones complejas, no es posible resolver la ecuación.\") :\n",
    "    resuelve_cuad(a,b,c, disc)\n",
    "end\n",
    "\n",
    "function resuelve_cuad(a, b, c, disc) #El algoritmo para encontrar las raíces\n",
    "    sq = sqrt(disc)\n",
    "    x1 = (-b+sq)/(2a)\n",
    "    x2 = (-b-sq)/(2a)\n",
    "    if x1 == x2\n",
    "        x1\n",
    "    else\n",
    "        raices = typeof(x1)[x1,x2]\n",
    "    end\n",
    "end"
   ]
  },
  {
   "cell_type": "code",
   "execution_count": 2,
   "metadata": {
    "collapsed": false
   },
   "outputs": [
    {
     "name": "stdout",
     "output_type": "stream",
     "text": [
      "search: "
     ]
    },
    {
     "data": {
      "text/latex": [
       "\\texttt{quadratic(a, b, c)} es una función \\texttt{type-stable} que resuelve una ecuación de segundo grado con coeficientes  reales: donde \\texttt{a}es el coeficiente cuadrático, \\texttt{b} el coeficiente lineal y \\texttt{c} el coeficiente independiente, dado a que el algoritmo emplea la función \\texttt{sqrt} (que en general devuelve un valor del tipo \\texttt{Float64} si el argumento de  dicha función es un número \\texttt{Real} se requiere que los argumentos \\texttt{a}, \\texttt{b} y \\texttt{c} sean del tipo \\texttt{Float64}\n"
      ],
      "text/markdown": [
       "`quadratic(a, b, c)` es una función `type-stable` que resuelve una ecuación de segundo grado con coeficientes  reales: donde `a`es el coeficiente cuadrático, `b` el coeficiente lineal y `c` el coeficiente independiente, dado a que el algoritmo emplea la función `sqrt` (que en general devuelve un valor del tipo `Float64` si el argumento de  dicha función es un número `Real` se requiere que los argumentos `a`, `b` y `c` sean del tipo `Float64`\n"
      ],
      "text/plain": [
       "`quadratic(a, b, c)` es una función `type-stable` que resuelve una ecuación de segundo grado con coeficientes  reales: donde `a`es el coeficiente cuadrático, `b` el coeficiente lineal y `c` el coeficiente independiente, dado a que el algoritmo emplea la función `sqrt` (que en general devuelve un valor del tipo `Float64` si el argumento de  dicha función es un número `Real` se requiere que los argumentos `a`, `b` y `c` sean del tipo `Float64`\n"
      ]
     },
     "execution_count": 2,
     "metadata": {},
     "output_type": "execute_result"
    },
    {
     "name": "stdout",
     "output_type": "stream",
     "text": [
      "quadratic\n",
      "\n"
     ]
    }
   ],
   "source": [
    "? quadratic"
   ]
  },
  {
   "cell_type": "markdown",
   "metadata": {},
   "source": [
    "### Comprobando el funcionamiento\n",
    "\n",
    "Resolveremos algunas ecuaciones de segundo grado para comprobar el funcionamiento de la función `quadratic`, el primer ejemplo será resolver la ecuación:\n",
    "$$ x^2 + 2x+-8=0$$\n",
    "cuyas raíces son $x_1 = -4$ y $x_2 = 2$:"
   ]
  },
  {
   "cell_type": "code",
   "execution_count": 4,
   "metadata": {
    "collapsed": false
   },
   "outputs": [
    {
     "data": {
      "text/plain": [
       "2-element Array{Float64,1}:\n",
       "  2.0\n",
       " -4.0"
      ]
     },
     "execution_count": 4,
     "metadata": {},
     "output_type": "execute_result"
    }
   ],
   "source": [
    "quadratic(1.0,2.0,-8.0)"
   ]
  },
  {
   "cell_type": "markdown",
   "metadata": {},
   "source": [
    "La segunda ecuación que emplearemos será:\n",
    "$$x^2+1=0$$\n",
    "cuyas raíces son $x = \\pm i$, por lo que la función debe regresar un error, pues sólo se aceptan argumentos del tipo `Float64`"
   ]
  },
  {
   "cell_type": "code",
   "execution_count": 5,
   "metadata": {
    "collapsed": false
   },
   "outputs": [
    {
     "ename": "LoadError",
     "evalue": "LoadError: La ecuación tiene soluciones complejas, no es posible resolver la ecuación.\nwhile loading In[5], in expression starting on line 1",
     "output_type": "error",
     "traceback": [
      "LoadError: La ecuación tiene soluciones complejas, no es posible resolver la ecuación.\nwhile loading In[5], in expression starting on line 1",
      "",
      " in quadratic at In[1]:11"
     ]
    }
   ],
   "source": [
    "quadratic(1.0,0.0,1.0)"
   ]
  },
  {
   "cell_type": "markdown",
   "metadata": {
    "collapsed": false
   },
   "source": [
    "El último caso a revisar es cuando $a=0$, en dicho caso la función debe regresar un error, pues la ecuación a resolver no es de segundo grado."
   ]
  },
  {
   "cell_type": "code",
   "execution_count": 6,
   "metadata": {
    "collapsed": false
   },
   "outputs": [
    {
     "ename": "LoadError",
     "evalue": "LoadError: Tu ecuación no es de segundo grado, revisa los argumentos.\nwhile loading In[6], in expression starting on line 1",
     "output_type": "error",
     "traceback": [
      "LoadError: Tu ecuación no es de segundo grado, revisa los argumentos.\nwhile loading In[6], in expression starting on line 1",
      "",
      " in quadratic at In[1]:9"
     ]
    }
   ],
   "source": [
    "quadratic(0.0,2.0,1.0)"
   ]
  },
  {
   "cell_type": "markdown",
   "metadata": {},
   "source": [
    "-Para resolver el problema de cómo lidiar con los errores use el contenido que se encuentra [aquí](http://docs.julialang.org/en/release-0.4/manual/control-flow/#man-conditional-evaluation).\n",
    "\n",
    "-Para averiguar cómo hacer la función sólo acepte cierto tipo de argumentos usé [ésto](http://docs.julialang.org/en/release-0.4/manual/types/)."
   ]
  }
 ],
 "metadata": {
  "kernelspec": {
   "display_name": "Julia 0.4.2",
   "language": "julia",
   "name": "julia-0.4"
  },
  "language_info": {
   "file_extension": ".jl",
   "mimetype": "application/julia",
   "name": "julia",
   "version": "0.4.2"
  }
 },
 "nbformat": 4,
 "nbformat_minor": 0
}
