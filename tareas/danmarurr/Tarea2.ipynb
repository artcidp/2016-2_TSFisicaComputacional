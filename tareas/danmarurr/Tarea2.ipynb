{
 "cells": [
  {
   "cell_type": "markdown",
   "metadata": {},
   "source": [
    "# Tarea 2\n",
    "### Daniel Martínez Urrieta"
   ]
  },
  {
   "cell_type": "markdown",
   "metadata": {},
   "source": [
    "Como siempre, documenten **todo** lo que hacen en el notebook\n",
    "\n",
    "Se recomienda que *colaboren* (equipos de máximo dos personas) en la tarea."
   ]
  },
  {
   "cell_type": "markdown",
   "metadata": {},
   "source": [
    "## 1. Histogramas\n",
    "\n",
    "Usando la función `randn`, generen $N$ valores tipo `Float64` al azar ($N\\sim 10000$, o mayor, es razonable). Construyan la función `histograma`, que regresa un vector de tamaño $n_{hist}$ (que es un argumento de la función) y que contiene el histograma de frecuencias *sin normalizar*. Esto es, la primer componente del vector corresponde al número de valores generados al azar que caen en el intervalo (llamado *bin* en inglés) $[x_0, x_1)$, los de la segunda componente caen en el intervalo $[x_1, x_2)$, etc, hasta $[x_{n_{hist}-1}, x{n_{hist}})$, donde el tamaño de los intervalos es el mismo y corresponde a $\\Delta x = (\\textrm{sup}(x)-\\textrm{inf}(x))/n_{hist}$. (No escatimen en estética.)\n",
    "\n",
    "Dibujen el histograma a partir de sus datos.\n",
    "\n",
    "PyPlot (matplotlib) de hecho tiene [una función]() útil para dibujar histogramas a partir de los datos directamente. Utilizando esa función, muestren el histograma de sus datos. Debería ser muy parecida a la que ya obtuvieron antes.\n",
    "\n",
    "NOTA: Hay esencialmente dos formas de hacerlo, que se distinguen por el número de veces que uno lee los datos. Traten de hacer su implementación usando *una* lectura de los datos. (Si no pueden, llevarán sobre sus hombros esa carga toda su vida.)"
   ]
  },
  {
   "cell_type": "markdown",
   "metadata": {},
   "source": [
    "### Solución\n",
    "\n",
    "La función histograma debe recibir un arreglo de números $\\vec{R}$ y el número $n_{hist}$ (este valor tiene que ser menor que el tamaño del vector), a partir de ello, obtener el histograma sin normalizar. Para dicha obtención, hay que notar que si $\\Delta x = (\\sup(\\vec{R})- \\inf(\\vec{R}))/n_hist$ entonces $x_i$ y $x_{i-1}$ se pueden obtener de la siguiente forma:\n",
    "\\begin{align}\n",
    "    x_i &= i\\Delta x + x_0 \\\\\n",
    "    x_{i-1} &= (i-1)\\Delta x + x_0\n",
    "\\end{align}\n",
    "\n",
    "Afortunadamente, `Julia` puede ordenar los valores del arreglo mediante la función `sort`, aprovechando esto, podemos revisar la condición de si un valor `R[j]` cumple que $R_j < x_i $.\n",
    "\n",
    "Primero se creará el vector $V$ que contendrá el histograma con la función `zeros(n_hist)`, posteriormente se usará un loop `for` para llenar cada entrada `i` (desde 1 hasta `n_hist`) con el conteo de números contenidos en $[x_{i-1},x_i)$. Para realizar el conteo, se implementará otro `for` que corra desde el valor $l= (\\sum_{j=1}^{i}V_j) + 1$ (ya que los valores anteriores ya fueron contados) hasta $n_hist$ por principio de cuentas. En este segundo `for` implementaremos una operación ternaria donde verifique si el valor $R_r < x_i$, en caso positivo, sumará uno en un contador, de lo contrario, se romperá el loop con la instrucción `break`, una vez terminado, almacena el valor del contador en `V[i]`, continuando el loop con reiniciando el valor del contador a 0 y calculando el siguiente $x_i$."
   ]
  },
  {
   "cell_type": "markdown",
   "metadata": {},
   "source": [
    "### Anotación con respecto a primera revisión\n",
    "\n",
    "Hay error porque el tamaño del vector de índices es distinto al tamaño del vector del histograma, entonces es conveniente que la función `histograma` regrese también un vector de índices adecuado."
   ]
  },
  {
   "cell_type": "code",
   "execution_count": 24,
   "metadata": {
    "collapsed": false
   },
   "outputs": [
    {
     "data": {
      "text/plain": [
       "histograma (generic function with 1 method)"
      ]
     },
     "execution_count": 24,
     "metadata": {},
     "output_type": "execute_result"
    }
   ],
   "source": [
    "\"\"\"\n",
    "`histograma(arr, n_hist)` obtiene el histograma de frecuencias sin normalizar del arreglo de N valores `Float64`\n",
    "considerando `n_hist` intervalos de longitud Δx = (sup(`arr`)-inf(`arr`))/`n_hist`. Es necesario que 0 < `n_hist`\n",
    "≦ N.\n",
    "\n",
    "***Nota:*** El arreglo debe tener como mínimo un elemento.\n",
    "Dicho histograma es devuelto como un vector con `n_hist` entradas, cada entrada tiene el número de valores\n",
    "encontrados en el intervalo [x_{i-1},x_i).\n",
    "\n",
    "La función devuelve dos vectores: `index` e `histo`. `index` contiene los índices adecuados para la graficación, \n",
    "`index` contiene los datos del histograma.\n",
    "\"\"\"\n",
    "function histograma(arr::Array{Float64,1},n_hist::Int) #Requerimos el vector de datos, así como n_hist\n",
    "    n = length(arr)\n",
    "    n == 0 ? error(\"Tamaño de arreglo inválido. Revisa la documentación\"):\n",
    "    (n < n_hist || n_hist <= 0) ? error(\"Valor para `n_hist` inválido. Revisa la documentación.\") :\n",
    "    orden = sort(arr) #Ordena elementos aleatorios\n",
    "    Δx = (orden[end] - orden[1])/n_hist #Calculamos Δx\n",
    "    vector = zeros(n_hist) #Creamos el vector de salida\n",
    "    for i in 1:n_hist\n",
    "        contador = 0 #Contador de número de elementos en el intervalo\n",
    "        x_i = i*Δx + orden[1] #Forma genérica de obtener x_i\n",
    "        last = round(Int64,sum(vector[1:i]) + 1) #Aunque sé que esto siempre es entero, sum() devuelve Float64\n",
    "        for r in last:n\n",
    "            check = orden[r]\n",
    "            check < x_i ? contador += 1 : break\n",
    "        end\n",
    "        vector[i] = contador\n",
    "    end\n",
    "    vector[end] += 1\n",
    "    indices = collect(1:n_hist)\n",
    "    indices, vector\n",
    "end"
   ]
  },
  {
   "cell_type": "code",
   "execution_count": 25,
   "metadata": {
    "collapsed": false
   },
   "outputs": [
    {
     "name": "stdout",
     "output_type": "stream",
     "text": [
      "search: "
     ]
    },
    {
     "data": {
      "text/latex": [
       "\\texttt{histograma(arr, n_hist)} obtiene el histograma de frecuencias sin normalizar del arreglo de N valores \\texttt{Float64} considerando \\texttt{n_hist} intervalos de longitud Δx = (sup(\\texttt{arr})-inf(\\texttt{arr}))/\\texttt{n_hist}. Es necesario que 0 < \\texttt{n_hist} ≦ N.\n",
       "***Nota:*** El arreglo debe tener como mínimo un elemento. Dicho histograma es devuelto como un vector con \\texttt{n_hist} entradas, cada entrada tiene el número de valores encontrados en el intervalo [x\\_\\{i-1\\},x\\_i).\n",
       "La función devuelve dos vectores: \\texttt{index} e \\texttt{histo}. \\texttt{index} contiene los índices adecuados para la graficación,  \\texttt{index} contiene los datos del histograma.\n"
      ],
      "text/markdown": [
       "`histograma(arr, n_hist)` obtiene el histograma de frecuencias sin normalizar del arreglo de N valores `Float64` considerando `n_hist` intervalos de longitud Δx = (sup(`arr`)-inf(`arr`))/`n_hist`. Es necesario que 0 < `n_hist` ≦ N.\n",
       "\n",
       "***Nota:*** El arreglo debe tener como mínimo un elemento. Dicho histograma es devuelto como un vector con `n_hist` entradas, cada entrada tiene el número de valores encontrados en el intervalo [x_{i-1},x_i).\n",
       "\n",
       "La función devuelve dos vectores: `index` e `histo`. `index` contiene los índices adecuados para la graficación,  `index` contiene los datos del histograma.\n"
      ],
      "text/plain": [
       "`histograma(arr, n_hist)` obtiene el histograma de frecuencias sin normalizar del arreglo de N valores `Float64` considerando `n_hist` intervalos de longitud Δx = (sup(`arr`)-inf(`arr`))/`n_hist`. Es necesario que 0 < `n_hist` ≦ N.\n",
       "\n",
       "***Nota:*** El arreglo debe tener como mínimo un elemento. Dicho histograma es devuelto como un vector con `n_hist` entradas, cada entrada tiene el número de valores encontrados en el intervalo [x_{i-1},x_i).\n",
       "\n",
       "La función devuelve dos vectores: `index` e `histo`. `index` contiene los índices adecuados para la graficación,  `index` contiene los datos del histograma.\n"
      ]
     },
     "execution_count": 25,
     "metadata": {},
     "output_type": "execute_result"
    },
    {
     "name": "stdout",
     "output_type": "stream",
     "text": [
      "histograma\n",
      "\n"
     ]
    }
   ],
   "source": [
    "? histograma"
   ]
  },
  {
   "cell_type": "markdown",
   "metadata": {},
   "source": [
    "Usemos la función `histograma` dándole un vector con 1000 números aleatorios, posteriormente se graficará el vector con el histograma usando la función `xcorr` y se comparará con el que se obtenga de la función `histogram` con los datos originales."
   ]
  },
  {
   "cell_type": "code",
   "execution_count": 3,
   "metadata": {
    "collapsed": false
   },
   "outputs": [
    {
     "name": "stdout",
     "output_type": "stream",
     "text": [
      "histograma\n",
      "\n"
     ]
    }
   ],
   "source": [
    "using PyPlot"
   ]
  },
  {
   "cell_type": "code",
   "execution_count": 26,
   "metadata": {
    "collapsed": true
   },
   "outputs": [],
   "source": [
    "al = randn(10000)\n",
    "index, histo = histograma(al, 100);"
   ]
  },
  {
   "cell_type": "code",
   "execution_count": 27,
   "metadata": {
    "collapsed": false
   },
   "outputs": [
    {
     "data": {
      "image/png": "[encoded data removed]",
      "text/plain": [
       "PyPlot.Figure(PyObject <matplotlib.figure.Figure object at 0x7f6c6e6adf28>)"
      ]
     },
     "metadata": {},
     "output_type": "display_data"
    },
    {
     "data": {
      "text/plain": [
       "PyObject <matplotlib.text.Text object at 0x7f6c6e4bb4a8>"
      ]
     },
     "execution_count": 27,
     "metadata": {},
     "output_type": "execute_result"
    }
   ],
   "source": [
    "figure(figsize=(5,4))\n",
    "bar(index,histo)\n",
    "title(\"Histograma usando función `histograma`\")"
   ]
  },
  {
   "cell_type": "code",
   "execution_count": 22,
   "metadata": {
    "collapsed": false
   },
   "outputs": [
    {
     "data": {
      "text/plain": [
       "100"
      ]
     },
     "execution_count": 22,
     "metadata": {},
     "output_type": "execute_result"
    }
   ],
   "source": [
    "length(histo)"
   ]
  },
  {
   "cell_type": "code",
   "execution_count": 6,
   "metadata": {
    "collapsed": false
   },
   "outputs": [
    {
     "data": {
      "image/png": "[encoded data removed]",
      "text/plain": [
       "PyPlot.Figure(PyObject <matplotlib.figure.Figure object at 0x7f6c70fa83c8>)"
      ]
     },
     "metadata": {},
     "output_type": "display_data"
    },
    {
     "data": {
      "text/plain": [
       "PyObject <matplotlib.text.Text object at 0x7f6c6e671b38>"
      ]
     },
     "execution_count": 6,
     "metadata": {},
     "output_type": "execute_result"
    }
   ],
   "source": [
    "figure(figsize = (5,4))\n",
    "plt[:hist](al,100)\n",
    "title(\"Histograma usando `hist`\")"
   ]
  },
  {
   "cell_type": "markdown",
   "metadata": {},
   "source": [
    "## 2. Promedio y varianza\n",
    "\n",
    "(a) Siguiendo con la generación de datos del ejercicio anterior, hagan una subrutina que calcule el promedio y la varianza de los datos generados anteriormente. Comparen su resultado con lo que se obtiene al utilizar `mean` y `var` (que son las funciones nativas de julia que hacen eso).\n",
    "    \n",
    "(b) Existe un [algoritmo recursivo](https://en.wikipedia.org/wiki/Algorithms_for_calculating_variance#Online_algorithm), ampliamente desconocido, que permite calcular el promedio y la varianza con una sóla lectura de los datos. Impleméntenlo. La *misma* función debería de darles *ambos* valores.\n",
    "    \n",
    "(c) ¿Cuál de todos los algoritmos es el más rápido? Consideren esto para datos de distinta longitud, cubriendo varios órdenes de magnitud.\n"
   ]
  },
  {
   "cell_type": "code",
   "execution_count": 7,
   "metadata": {
    "collapsed": false
   },
   "outputs": [
    {
     "data": {
      "text/plain": [
       "prom_var (generic function with 1 method)"
      ]
     },
     "execution_count": 7,
     "metadata": {},
     "output_type": "execute_result"
    }
   ],
   "source": [
    "\"\"\"\n",
    "`prom_var(arr)` devuelve el valor del promedio y la varianza de los datos contenidos en un `Array{Float64,1}`,\n",
    "es requerido que `arr`tenga por lo menos un dato`\n",
    "\"\"\"\n",
    "function prom_var(arr::Array{Float64,1})\n",
    "    n = length(arr)\n",
    "    n == 0 ? error(\"Tamaño de arreglo inválido. Revisa la documentación.\") :\n",
    "    prom = sum(arr)/n\n",
    "    var = (sum(arr.*arr))/n -prom^2\n",
    "    Val = Float64[prom, var]\n",
    "    Val\n",
    "end"
   ]
  },
  {
   "cell_type": "code",
   "execution_count": 8,
   "metadata": {
    "collapsed": false
   },
   "outputs": [
    {
     "data": {
      "text/plain": [
       "2-element Array{Float64,1}:\n",
       " 0.000546371\n",
       " 1.0132     "
      ]
     },
     "execution_count": 8,
     "metadata": {},
     "output_type": "execute_result"
    }
   ],
   "source": [
    "R = prom_var(al)"
   ]
  },
  {
   "cell_type": "code",
   "execution_count": 9,
   "metadata": {
    "collapsed": false
   },
   "outputs": [
    {
     "data": {
      "text/plain": [
       "2-element Array{Float64,1}:\n",
       "  0.0       \n",
       " -0.00010133"
      ]
     },
     "execution_count": 9,
     "metadata": {},
     "output_type": "execute_result"
    }
   ],
   "source": [
    "R - [mean(al), var(al)]"
   ]
  },
  {
   "cell_type": "markdown",
   "metadata": {},
   "source": [
    "***a)*** Se nota una pequeña diferencia entre el valor de la varianza calculada con mi subrutina y la que calcula Julia, con el promedio no se tiene discrepancia.\n",
    "\n",
    "***b)*** Se implementará la función `prom_var2` empleando el algoritmo recursivo citado."
   ]
  },
  {
   "cell_type": "code",
   "execution_count": 10,
   "metadata": {
    "collapsed": false
   },
   "outputs": [
    {
     "data": {
      "text/plain": [
       "prom_var2 (generic function with 1 method)"
      ]
     },
     "execution_count": 10,
     "metadata": {},
     "output_type": "execute_result"
    }
   ],
   "source": [
    "\"\"\"\n",
    "`prom_var2(arr)` calcula el valor del promedio y la varianza de los datos contenidos en `arr` empleando un \n",
    "[algoritmo recursivo](https://en.wikipedia.org/wiki/Algorithms_for_calculating_variance#Online_algorithm).\n",
    "\n",
    "Es requerido que `arr` sea del tipo `Array{Float64,1}` y que contenga por lo menos un dato.\n",
    "\"\"\"\n",
    "function prom_var2(arr::Array{Float64,1})\n",
    "    length(arr) == 0 ? error(\"Tamaño de arreglo inválido, revisa la documentación.\") :\n",
    "    prom = 0.0\n",
    "    var = 0.0\n",
    "    n = 0\n",
    "    for x in arr\n",
    "        n += 1\n",
    "        r = (x - prom)/n\n",
    "        prom += r\n",
    "        var = (n-1)*var/n + r*(x-prom)\n",
    "    end\n",
    "    Float64[prom, var]\n",
    "end        "
   ]
  },
  {
   "cell_type": "code",
   "execution_count": 11,
   "metadata": {
    "collapsed": false
   },
   "outputs": [
    {
     "name": "stdout",
     "output_type": "stream",
     "text": [
      "search: "
     ]
    },
    {
     "data": {
      "text/latex": [
       "\\texttt{prom_var2(arr)} calcula el valor del promedio y la varianza de los datos contenidos en \\texttt{arr} empleando un  \\href{https://en.wikipedia.org/wiki/Algorithms_for_calculating_variance#Online_algorithm}{algoritmo recursivo}.\n",
       "Es requerido que \\texttt{arr} sea del tipo \\texttt{Array{Float64,1}} y que contenga por lo menos un dato.\n"
      ],
      "text/markdown": [
       "`prom_var2(arr)` calcula el valor del promedio y la varianza de los datos contenidos en `arr` empleando un  [algoritmo recursivo](https://en.wikipedia.org/wiki/Algorithms_for_calculating_variance#Online_algorithm).\n",
       "\n",
       "Es requerido que `arr` sea del tipo `Array{Float64,1}` y que contenga por lo menos un dato.\n"
      ],
      "text/plain": [
       "`prom_var2(arr)` calcula el valor del promedio y la varianza de los datos contenidos en `arr` empleando un  [algoritmo recursivo](https://en.wikipedia.org/wiki/Algorithms_for_calculating_variance#Online_algorithm).\n",
       "\n",
       "Es requerido que `arr` sea del tipo `Array{Float64,1}` y que contenga por lo menos un dato.\n"
      ]
     },
     "execution_count": 11,
     "metadata": {},
     "output_type": "execute_result"
    }
   ],
   "source": [
    "? prom_var2"
   ]
  },
  {
   "cell_type": "code",
   "execution_count": 12,
   "metadata": {
    "collapsed": false
   },
   "outputs": [
    {
     "data": {
      "text/plain": [
       "2-element Array{Float64,1}:\n",
       " 0.000546371\n",
       " 1.0132     "
      ]
     },
     "execution_count": 12,
     "metadata": {},
     "output_type": "execute_result"
    }
   ],
   "source": [
    "prom_var2(al)"
   ]
  },
  {
   "cell_type": "markdown",
   "metadata": {},
   "source": [
    "*** c) *** Para revisar la eficiencia de los métodos crearemos 5 arreglos de números aleatorios de distinto orden de magnitud, crearemos una subrutina que use el macro `@time` y devuelva el tiempo empleado para calcular el método y la varianza usando los tres métodos disponibles."
   ]
  },
  {
   "cell_type": "code",
   "execution_count": 13,
   "metadata": {
    "collapsed": false
   },
   "outputs": [
    {
     "data": {
      "text/plain": [
       "prom_var3 (generic function with 1 method)"
      ]
     },
     "execution_count": 13,
     "metadata": {},
     "output_type": "execute_result"
    }
   ],
   "source": [
    "\"\"\"\n",
    "`prom_var3(arr)` regresa los valores de promedio y la varianza asociada a los datos en `arr` usando las funciones\n",
    "de `Julia`: `mean` y `var`.\n",
    "\n",
    "Es requerido que `arr` sea del tipo `Array{Float64,1}` y que contenga por lo menos un dato.\n",
    "\"\"\"\n",
    "function prom_var3(arr::Array{Float64,1})\n",
    "    length(arr) == 0 ? error(\"Tamaño de arreglo inválido, revisa la documentación.\") :\n",
    "    Float64[mean(arr), var(arr)]\n",
    "end"
   ]
  },
  {
   "cell_type": "code",
   "execution_count": 14,
   "metadata": {
    "collapsed": false
   },
   "outputs": [
    {
     "data": {
      "text/plain": [
       "evalua_tiempo (generic function with 1 method)"
      ]
     },
     "execution_count": 14,
     "metadata": {},
     "output_type": "execute_result"
    }
   ],
   "source": [
    "function evalua_tiempo(arr::Array{Float64,1})\n",
    "    println(\"Tiempo usando `prom_var`\")\n",
    "    @time ar = prom_var(arr)\n",
    "    @time ar = prom_var(arr)\n",
    "    println(\"Tiempo usado `prom_var2`\")\n",
    "    @time ar = prom_var2(arr)\n",
    "    @time ar = prom_var2(arr)\n",
    "    println(\"Tiempo usado `prom_var3`\")\n",
    "    @time ar = prom_var3(arr)\n",
    "    @time ar = prom_var3(arr)\n",
    "end"
   ]
  },
  {
   "cell_type": "code",
   "execution_count": 15,
   "metadata": {
    "collapsed": false
   },
   "outputs": [
    {
     "name": "stdout",
     "output_type": "stream",
     "text": [
      "prom_var2 prom_var\n",
      "\n",
      "Tiempo usando `prom_var`\n"
     ]
    },
    {
     "data": {
      "text/plain": [
       "2-element Array{Float64,1}:\n",
       " -0.149256\n",
       "  0.914034"
      ]
     },
     "execution_count": 15,
     "metadata": {},
     "output_type": "execute_result"
    }
   ],
   "source": [
    "al1 = randn(100) #100 números\n",
    "evalua_tiempo(al1)"
   ]
  },
  {
   "cell_type": "code",
   "execution_count": 16,
   "metadata": {
    "collapsed": false
   },
   "outputs": [
    {
     "data": {
      "text/plain": [
       "2-element Array{Float64,1}:\n",
       " -0.00530753\n",
       "  1.0812    "
      ]
     },
     "execution_count": 16,
     "metadata": {},
     "output_type": "execute_result"
    }
   ],
   "source": [
    "al2 = randn(1000) #1000 números\n",
    "evalua_tiempo(al2)"
   ]
  },
  {
   "cell_type": "code",
   "execution_count": 17,
   "metadata": {
    "collapsed": false
   },
   "outputs": [
    {
     "data": {
      "text/plain": [
       "2-element Array{Float64,1}:\n",
       " 0.00795199\n",
       " 1.00688   "
      ]
     },
     "execution_count": 17,
     "metadata": {},
     "output_type": "execute_result"
    }
   ],
   "source": [
    "al3 = randn(10000) #10000 números\n",
    "evalua_tiempo(al3)"
   ]
  },
  {
   "cell_type": "code",
   "execution_count": 18,
   "metadata": {
    "collapsed": false
   },
   "outputs": [
    {
     "data": {
      "text/plain": [
       "2-element Array{Float64,1}:\n",
       " 0.00159518\n",
       " 1.00319   "
      ]
     },
     "execution_count": 18,
     "metadata": {},
     "output_type": "execute_result"
    }
   ],
   "source": [
    "al4 = randn(100000)\n",
    "evalua_tiempo(al4)"
   ]
  },
  {
   "cell_type": "markdown",
   "metadata": {},
   "source": [
    "*** Respuesta: *** Por lo observado en lo anterior el método más efectivo para calcular varianzas y promedios es emplear las funciones de `Julia` y usando el método no recursivo en segundo lugar."
   ]
  },
  {
   "cell_type": "markdown",
   "metadata": {},
   "source": [
    "## 3. Método de Simpson para integrar $f(x)$ en un intervalo\n",
    "\n",
    "Implementen el método de Simpson para integrar una función arbitraria $f(x)$."
   ]
  },
  {
   "cell_type": "markdown",
   "metadata": {},
   "source": [
    "Este método aproxima a una función $f(x)$ mediante una parábola con ayuda de los polinomios interpolantes de Lagrange. Después de una talacha se puede llegar a que la integral de una función $f$ en un intervalo $[a,b]$ está dada por:\n",
    "$$\\int_a^bf(x)dx \\approx \\frac{b-a}{6}\\left[f(a)+4f\\left(\\frac{a+b}{2}\\right)+f(b)\\right]$$\n",
    "\n",
    "Siguiendo ésta fórmula se implementará la función `simpson()`"
   ]
  },
  {
   "cell_type": "markdown",
   "metadata": {},
   "source": [
    "### Anotación respondiendo a la primera revisión\n",
    "\n",
    "El valor es malo dado a que el método se aplica a un intervalo bastante grande, entonces, debe ser agregado un parámetro `n` para dividir el intervalo en n pedazos e integrar la función en cada pedazo usando la fórmula de arriba. Al fin que la integral respeta que:\n",
    "\n",
    "$$\\int_{x_0}^{x_n}f(x)dx = \\int_{x_0}^{x_1}f(x)dx + \\int_{x_1}^{x_2}f(x)dx + \\dotsm + \\int_{x_{n-1}}^{x_n}f(x)dx$$\n",
    "\n",
    "donde $x_0 = a$ y $x_n = b$. Implementaremos esto a la función `simpson`. `n` tendrá un valor por defecto de `n=100`. Esto debería reducir el error considerablemente."
   ]
  },
  {
   "cell_type": "code",
   "execution_count": 33,
   "metadata": {
    "collapsed": false
   },
   "outputs": [
    {
     "data": {
      "text/plain": [
       "simpson (generic function with 2 methods)"
      ]
     },
     "execution_count": 33,
     "metadata": {},
     "output_type": "execute_result"
    }
   ],
   "source": [
    "\"\"\"\n",
    "`simpson(f, a, b, n=100)` calcula la integral de la función `f` en el intervalo [a,b] empleando la regla de Simpson\n",
    "simple sobre `n` subintervalos del intervalo [a,b] cuya distancia es de Δx = (b-a)/n. El valor por defecto en la\n",
    "partición de subintervalos es n = 100.\n",
    "\n",
    "Es  necesario que f sea una función, que a, b sean valores reales y que n sea un entero positivo.\n",
    "\"\"\"\n",
    "function simpson(f::Function, a::Real, b::Real, n = 100::Int)\n",
    "    n == 0 ? error(\"Valor de `n` inválida. Por favor revise la documentación.\"):\n",
    "    integral = 0.0\n",
    "    Δx = (b-a)/n\n",
    "    for i in 1:n\n",
    "        x_i = i*Δx + a\n",
    "        x_im1 = (i-1)*Δx + a\n",
    "        h = (x_i + x_im1)/2\n",
    "        integral += (f(x_im1) + 4*f(h) + f(x_i)) * (x_i-x_im1)/6\n",
    "    end\n",
    "    integral\n",
    "end"
   ]
  },
  {
   "cell_type": "code",
   "execution_count": 29,
   "metadata": {
    "collapsed": false
   },
   "outputs": [
    {
     "name": "stdout",
     "output_type": "stream",
     "text": [
      "search: "
     ]
    },
    {
     "data": {
      "text/latex": [
       "\\texttt{simpson(f, a, b, n=100)} calcula la integral de la función \\texttt{f} en el intervalo [a,b] empleando la regla de Simpson simple sobre \\texttt{n} subintervalos del intervalo [a,b] cuya distancia es de Δx = (b-a)/n. \n",
       "Es  necesario que f sea una función y que a,b sean valores reales\n"
      ],
      "text/markdown": [
       "`simpson(f, a, b, n=100)` calcula la integral de la función `f` en el intervalo [a,b] empleando la regla de Simpson simple sobre `n` subintervalos del intervalo [a,b] cuya distancia es de Δx = (b-a)/n. \n",
       "\n",
       "Es  necesario que f sea una función y que a,b sean valores reales\n"
      ],
      "text/plain": [
       "`simpson(f, a, b, n=100)` calcula la integral de la función `f` en el intervalo [a,b] empleando la regla de Simpson simple sobre `n` subintervalos del intervalo [a,b] cuya distancia es de Δx = (b-a)/n. \n",
       "\n",
       "Es  necesario que f sea una función y que a,b sean valores reales\n"
      ]
     },
     "execution_count": 29,
     "metadata": {},
     "output_type": "execute_result"
    },
    {
     "name": "stdout",
     "output_type": "stream",
     "text": [
      "simpson\n",
      "\n"
     ]
    }
   ],
   "source": [
    "?simpson"
   ]
  },
  {
   "cell_type": "code",
   "execution_count": 35,
   "metadata": {
    "collapsed": false
   },
   "outputs": [
    {
     "data": {
      "text/plain": [
       "2.0000000006764718"
      ]
     },
     "execution_count": 35,
     "metadata": {},
     "output_type": "execute_result"
    }
   ],
   "source": [
    "f(x) = sin(x)\n",
    "simpson(f, 0, π)"
   ]
  },
  {
   "cell_type": "markdown",
   "metadata": {},
   "source": [
    "1. Lugar de donde supe como encontrar mínimos y máximos [aquí](http://docs.julialang.org/en/latest/stdlib/math/?highlight=max#Base.max).\n",
    "2. Sintaxis de Markdown [acá](https://github.com/adam-p/markdown-here/wiki/Markdown-Cheatsheet#lists)."
   ]
  }
 ],
 "metadata": {
  "kernelspec": {
   "display_name": "Julia 0.4.2",
   "language": "julia",
   "name": "julia-0.4"
  },
  "language_info": {
   "file_extension": ".jl",
   "mimetype": "application/julia",
   "name": "julia",
   "version": "0.4.2"
  }
 },
 "nbformat": 4,
 "nbformat_minor": 0
}
